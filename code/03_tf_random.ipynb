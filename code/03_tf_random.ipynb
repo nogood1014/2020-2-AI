{
  "nbformat": 4,
  "nbformat_minor": 0,
  "metadata": {
    "colab": {
      "name": "03-tf-random.ipynb",
      "provenance": [],
      "collapsed_sections": [],
      "authorship_tag": "ABX9TyNq1Lb7PLKi8VtNLQzW1ClF",
      "include_colab_link": true
    },
    "kernelspec": {
      "name": "python3",
      "display_name": "Python 3"
    }
  },
  "cells": [
    {
      "cell_type": "markdown",
      "metadata": {
        "id": "view-in-github",
        "colab_type": "text"
      },
      "source": [
        "<a href=\"https://colab.research.google.com/github/nogood1014/2020-2-AI/blob/main/code/03_tf_random.ipynb\" target=\"_parent\"><img src=\"https://colab.research.google.com/assets/colab-badge.svg\" alt=\"Open In Colab\"/></a>"
      ]
    },
    {
      "cell_type": "code",
      "metadata": {
        "id": "MX3-1RXKg7c9",
        "outputId": "c2caf626-dd31-4d5d-9071-75042ea40e8d",
        "colab": {
          "base_uri": "https://localhost:8080/",
          "height": 35
        }
      },
      "source": [
        "import tensorflow as tf\n",
        "tf.__version__"
      ],
      "execution_count": null,
      "outputs": [
        {
          "output_type": "execute_result",
          "data": {
            "application/vnd.google.colaboratory.intrinsic+json": {
              "type": "string"
            },
            "text/plain": [
              "'2.3.0'"
            ]
          },
          "metadata": {
            "tags": []
          },
          "execution_count": 3
        }
      ]
    },
    {
      "cell_type": "markdown",
      "metadata": {
        "id": "HXKSDHvnf_3e"
      },
      "source": [
        "# **텐서플로 난수**\n",
        "- 배열, 시작, 끝"
      ]
    },
    {
      "cell_type": "markdown",
      "metadata": {
        "id": "mut3-FNmnTCu"
      },
      "source": [
        "## **균일 분포 - uniform**"
      ]
    },
    {
      "cell_type": "code",
      "metadata": {
        "id": "wDIKKApDf0x5",
        "outputId": "d4492ea7-86d1-408d-b6b6-7819543cd738",
        "colab": {
          "base_uri": "https://localhost:8080/",
          "height": 35
        }
      },
      "source": [
        " # 3.7 랜덤한 수 얻기 (균일 분포)\n",
        " rand = tf.random.uniform([1], 0, 1)\n",
        " print(rand)"
      ],
      "execution_count": null,
      "outputs": [
        {
          "output_type": "stream",
          "text": [
            "tf.Tensor([0.9568354], shape=(1,), dtype=float32)\n"
          ],
          "name": "stdout"
        }
      ]
    },
    {
      "cell_type": "markdown",
      "metadata": {
        "id": "FyXagVaNmBrp"
      },
      "source": [
        "**↓5행 4열의 행렬의 값을 0-1 사이의 난수로 채워라**"
      ]
    },
    {
      "cell_type": "code",
      "metadata": {
        "id": "ahOmWBVqgZPl",
        "outputId": "48a439c3-3a87-45dd-f994-14e45c1f5625",
        "colab": {
          "base_uri": "https://localhost:8080/",
          "height": 125
        }
      },
      "source": [
        "rand = tf.random.uniform([5,4],0,1)\n",
        "print(rand)"
      ],
      "execution_count": null,
      "outputs": [
        {
          "output_type": "stream",
          "text": [
            "tf.Tensor(\n",
            "[[0.64873457 0.5893861  0.89811504 0.79765785]\n",
            " [0.80308497 0.14385486 0.14311087 0.15088856]\n",
            " [0.14416373 0.12395048 0.87088704 0.16797483]\n",
            " [0.22269821 0.23501396 0.7622087  0.90915406]\n",
            " [0.91447544 0.63808215 0.33737397 0.6587868 ]], shape=(5, 4), dtype=float32)\n"
          ],
          "name": "stdout"
        }
      ]
    },
    {
      "cell_type": "markdown",
      "metadata": {
        "id": "WFzYW3GOliJA"
      },
      "source": [
        "**↓Slicing (:10 -> 0 -9 (10개))**\n",
        "1000개를 만들었지만.. 10개를 뽑아 출력"
      ]
    },
    {
      "cell_type": "code",
      "metadata": {
        "id": "xWf7RkLBhDfj",
        "outputId": "d354eeeb-3a9e-4064-a4bd-0976a394b144",
        "colab": {
          "base_uri": "https://localhost:8080/",
          "height": 71
        }
      },
      "source": [
        "rand = tf.random.uniform([1000],0,100)\n",
        "print(rand[:10])"
      ],
      "execution_count": null,
      "outputs": [
        {
          "output_type": "stream",
          "text": [
            "tf.Tensor(\n",
            "[12.519228 68.593994 73.82915  42.657124  7.284224 71.69325  78.8733\n",
            " 99.758995 91.48885  47.191025], shape=(10,), dtype=float32)\n"
          ],
          "name": "stdout"
        }
      ]
    },
    {
      "cell_type": "markdown",
      "metadata": {
        "id": "4nqDrInFiaOc"
      },
      "source": [
        "# **균등 분포 1000개 그리기**"
      ]
    },
    {
      "cell_type": "markdown",
      "metadata": {
        "id": "CY130P1GmsBz"
      },
      "source": [
        "**↓bins : 막대 그래프의 수**"
      ]
    },
    {
      "cell_type": "code",
      "metadata": {
        "id": "CiHYTay0iMLK",
        "outputId": "7d4cbbe4-5c33-4130-b9da-c4163a214d40",
        "colab": {
          "base_uri": "https://localhost:8080/",
          "height": 358
        }
      },
      "source": [
        "import matplotlib.pyplot as plt\n",
        "rand = tf.random.uniform([1000],0,50)\n",
        "plt.hist(rand, bins =10)"
      ],
      "execution_count": null,
      "outputs": [
        {
          "output_type": "execute_result",
          "data": {
            "text/plain": [
              "(array([ 94., 102., 107.,  93., 115.,  93.,  93., 107.,  87., 109.]),\n",
              " array([1.8495321e-02, 5.0107737e+00, 1.0003052e+01, 1.4995330e+01,\n",
              "        1.9987608e+01, 2.4979885e+01, 2.9972164e+01, 3.4964443e+01,\n",
              "        3.9956718e+01, 4.4948997e+01, 4.9941277e+01], dtype=float32),\n",
              " <a list of 10 Patch objects>)"
            ]
          },
          "metadata": {
            "tags": []
          },
          "execution_count": 10
        },
        {
          "output_type": "display_data",
          "data": {
            "image/png": "[encoded data removed]",
            "text/plain": [
              "<Figure size 432x288 with 1 Axes>"
            ]
          },
          "metadata": {
            "tags": [],
            "needs_background": "light"
          }
        }
      ]
    },
    {
      "cell_type": "markdown",
      "metadata": {
        "id": "uweKGjYvisrR"
      },
      "source": [
        "# **정규분포 난수 - normal**\n",
        "- 크기, 평균, 표준편차"
      ]
    },
    {
      "cell_type": "code",
      "metadata": {
        "id": "FxGSglBpimuJ",
        "outputId": "182a6bbb-6f5f-4ae7-db7f-d2a176b516d5",
        "colab": {
          "base_uri": "https://localhost:8080/",
          "height": 35
        }
      },
      "source": [
        "# 3.9 랜덤한 수 여러 개 얻기 (정규 분포)\n",
        "rand = tf.random.normal([4],0,1)\n",
        "print(rand)"
      ],
      "execution_count": null,
      "outputs": [
        {
          "output_type": "stream",
          "text": [
            "tf.Tensor([-0.18063734 -1.3515652  -0.25891647 -0.41491646], shape=(4,), dtype=float32)\n"
          ],
          "name": "stdout"
        }
      ]
    },
    {
      "cell_type": "code",
      "metadata": {
        "id": "EH42dufnjExz",
        "outputId": "224e41fb-6531-45fd-89d5-179bf4ec8ab4",
        "colab": {
          "base_uri": "https://localhost:8080/",
          "height": 71
        }
      },
      "source": [
        "# 3.9 랜덤한 수 여러 개 얻기 (정규 분포)\n",
        "rand = tf.random.normal([2, 4],0,2)\n",
        "print(rand)"
      ],
      "execution_count": null,
      "outputs": [
        {
          "output_type": "stream",
          "text": [
            "tf.Tensor(\n",
            "[[ 1.4388676  -2.9182932   0.9952557  -0.1251188 ]\n",
            " [ 0.8973086  -2.0487614   0.87919575 -0.12210698]], shape=(2, 4), dtype=float32)\n"
          ],
          "name": "stdout"
        }
      ]
    },
    {
      "cell_type": "markdown",
      "metadata": {
        "id": "swpezxpRjVzU"
      },
      "source": [
        "# **정규 분포 100개 그리기**"
      ]
    },
    {
      "cell_type": "code",
      "metadata": {
        "id": "hprsH0bwjSdi",
        "outputId": "0c39c35a-647a-447d-f9f8-b9d3e2b7722e",
        "colab": {
          "base_uri": "https://localhost:8080/",
          "height": 464
        }
      },
      "source": [
        "import matplotlib.pyplot as plt\n",
        "rand = tf.random.normal([100], 0, 1)\n",
        "plt.hist(rand, bins =10)"
      ],
      "execution_count": null,
      "outputs": [
        {
          "output_type": "execute_result",
          "data": {
            "text/plain": [
              "(array([ 2.,  6., 17., 22., 12., 16., 12.,  7.,  5.,  1.]),\n",
              " array([-2.2474983 , -1.7511833 , -1.2548683 , -0.75855327, -0.26223826,\n",
              "         0.23407674,  0.73039174,  1.2267067 ,  1.7230217 ,  2.2193367 ,\n",
              "         2.7156518 ], dtype=float32),\n",
              " <a list of 10 Patch objects>)"
            ]
          },
          "metadata": {
            "tags": []
          },
          "execution_count": 30
        },
        {
          "output_type": "display_data",
          "data": {
            "image/png": "[encoded data removed]",
            "text/plain": [
              "<Figure size 864x432 with 1 Axes>"
            ]
          },
          "metadata": {
            "tags": [],
            "needs_background": "light"
          }
        }
      ]
    },
    {
      "cell_type": "markdown",
      "metadata": {
        "id": "Ye1kFBvCjsvE"
      },
      "source": [
        "## **균등분포와 정규분포의 비교**"
      ]
    },
    {
      "cell_type": "markdown",
      "metadata": {
        "id": "qLDSU5FwoDgG"
      },
      "source": [
        "**uniform 배열 커질수록 사각형 모양** <br>\n",
        "**normal 크기 커질 수록 종 모양**"
      ]
    },
    {
      "cell_type": "code",
      "metadata": {
        "id": "xxKJLQK7jiTf",
        "outputId": "6176c832-14a6-4c9c-cea1-01fb23d29075",
        "colab": {
          "base_uri": "https://localhost:8080/",
          "height": 805
        }
      },
      "source": [
        "import matplotlib.pyplot as plt\n",
        "rand1 = tf.random.normal([1000],0,1)\n",
        "rand2 = tf.random.uniform([2000],0,1)\n",
        "plt.hist(rand1, bins =100)\n",
        "plt.hist(rand2, bins=100)"
      ],
      "execution_count": null,
      "outputs": [
        {
          "output_type": "execute_result",
          "data": {
            "text/plain": [
              "(array([20., 32., 21., 13., 26., 20., 22., 36., 21., 17., 18., 17., 21.,\n",
              "        15., 16., 16., 17., 19., 21., 21., 18., 17., 18., 22., 20., 25.,\n",
              "         9., 21., 21., 20., 13., 22., 18., 21., 17., 22., 18., 18., 13.,\n",
              "        25., 17., 27., 21., 14., 22., 18., 14., 27., 20., 20., 19., 24.,\n",
              "        17., 12., 24., 25., 22., 30., 34., 22., 19., 21., 17.,  9., 16.,\n",
              "        22., 20., 25., 16., 23., 21., 21., 22., 17., 16., 23., 15., 19.,\n",
              "        15., 12., 17., 20., 20., 25., 24., 14., 28., 15., 19., 24., 20.,\n",
              "        24., 14., 19., 20., 22., 26., 22., 19., 23.]),\n",
              " array([0.00167215, 0.01165287, 0.0216336 , 0.03161433, 0.04159505,\n",
              "        0.05157578, 0.06155651, 0.07153723, 0.08151796, 0.09149869,\n",
              "        0.10147941, 0.11146013, 0.12144087, 0.1314216 , 0.14140232,\n",
              "        0.15138304, 0.16136377, 0.17134449, 0.18132523, 0.19130595,\n",
              "        0.20128667, 0.2112674 , 0.22124812, 0.23122886, 0.24120958,\n",
              "        0.2511903 , 0.26117104, 0.27115175, 0.2811325 , 0.2911132 ,\n",
              "        0.30109394, 0.31107467, 0.32105538, 0.33103612, 0.34101683,\n",
              "        0.35099757, 0.3609783 , 0.370959  , 0.38093975, 0.39092046,\n",
              "        0.4009012 , 0.41088194, 0.42086264, 0.43084338, 0.4408241 ,\n",
              "        0.45080483, 0.46078557, 0.47076628, 0.480747  , 0.49072772,\n",
              "        0.50070846, 0.5106892 , 0.52066994, 0.5306506 , 0.54063135,\n",
              "        0.5506121 , 0.56059283, 0.57057357, 0.58055425, 0.590535  ,\n",
              "        0.6005157 , 0.61049646, 0.6204772 , 0.6304579 , 0.6404386 ,\n",
              "        0.65041935, 0.6604001 , 0.67038083, 0.6803615 , 0.69034225,\n",
              "        0.700323  , 0.7103037 , 0.72028446, 0.73026514, 0.7402459 ,\n",
              "        0.7502266 , 0.76020736, 0.7701881 , 0.7801688 , 0.7901495 ,\n",
              "        0.80013025, 0.810111  , 0.8200917 , 0.8300724 , 0.84005314,\n",
              "        0.8500339 , 0.8600146 , 0.86999536, 0.87997603, 0.8899568 ,\n",
              "        0.8999375 , 0.90991825, 0.919899  , 0.92987967, 0.9398604 ,\n",
              "        0.94984114, 0.9598219 , 0.9698026 , 0.9797833 , 0.98976403,\n",
              "        0.9997448 ], dtype=float32),\n",
              " <a list of 100 Patch objects>)"
            ]
          },
          "metadata": {
            "tags": []
          },
          "execution_count": 23
        },
        {
          "output_type": "display_data",
          "data": {
            "image/png": "[encoded data removed]",
            "text/plain": [
              "<Figure size 432x288 with 1 Axes>"
            ]
          },
          "metadata": {
            "tags": [],
            "needs_background": "light"
          }
        }
      ]
    },
    {
      "cell_type": "markdown",
      "metadata": {
        "id": "qSYqXkQkkCi7"
      },
      "source": [
        "## **균등분포와 정규분포를 부분으로 그리기**"
      ]
    },
    {
      "cell_type": "code",
      "metadata": {
        "id": "ZAcCqP6EkBLS",
        "outputId": "6e99d4eb-a04e-435c-e55f-9c36398a6143",
        "colab": {
          "base_uri": "https://localhost:8080/",
          "height": 1000
        }
      },
      "source": [
        "import matplotlib.pyplot as plt\n",
        "rand1 = tf.random.normal([1000],0,1)\n",
        "rand2 = tf.random.uniform([2000],0,1)\n",
        "\n",
        "plt.rcParams[\"figure.figsize\"] = (12,6) # 가로 12인치, 세로 6인치\n",
        "fig, axes = plt.subplots(1,2, sharex = True, sharey = True) #1행에 2개를 그리겠다.\n",
        "axes[0].hist(rand1, bins=100)\n",
        "axes[1].hist(rand2, bins=100)"
      ],
      "execution_count": null,
      "outputs": [
        {
          "output_type": "execute_result",
          "data": {
            "text/plain": [
              "(array([23., 15., 26., 18., 15., 13., 16., 16., 25., 27., 11., 22., 19.,\n",
              "        18., 17., 24., 19., 21., 18., 22., 20., 23., 18., 26., 23., 23.,\n",
              "        20., 16., 16., 29., 25., 21., 21., 20., 17., 18., 17., 16., 28.,\n",
              "        26., 10., 17., 19., 18., 26., 20., 14., 17., 18., 17., 18., 17.,\n",
              "        18., 23., 11., 17., 20., 20., 19., 16., 19., 22., 24., 25., 23.,\n",
              "        20., 15., 23., 18., 19., 24., 28., 18., 23., 16., 17., 21., 26.,\n",
              "        23., 16., 26., 24., 19., 18., 23., 19., 21., 17., 17., 25., 21.,\n",
              "        14., 22., 28., 16., 19., 13., 28., 26., 21.]),\n",
              " array([1.15394592e-04, 1.01137962e-02, 2.01121978e-02, 3.01105995e-02,\n",
              "        4.01090011e-02, 5.01074009e-02, 6.01058044e-02, 7.01042041e-02,\n",
              "        8.01026076e-02, 9.01010036e-02, 1.00099407e-01, 1.10097811e-01,\n",
              "        1.20096214e-01, 1.30094618e-01, 1.40093014e-01, 1.50091410e-01,\n",
              "        1.60089821e-01, 1.70088217e-01, 1.80086613e-01, 1.90085024e-01,\n",
              "        2.00083420e-01, 2.10081831e-01, 2.20080227e-01, 2.30078623e-01,\n",
              "        2.40077034e-01, 2.50075430e-01, 2.60073841e-01, 2.70072222e-01,\n",
              "        2.80070633e-01, 2.90069044e-01, 3.00067425e-01, 3.10065836e-01,\n",
              "        3.20064247e-01, 3.30062628e-01, 3.40061039e-01, 3.50059450e-01,\n",
              "        3.60057831e-01, 3.70056242e-01, 3.80054653e-01, 3.90053064e-01,\n",
              "        4.00051445e-01, 4.10049856e-01, 4.20048267e-01, 4.30046648e-01,\n",
              "        4.40045059e-01, 4.50043470e-01, 4.60041851e-01, 4.70040262e-01,\n",
              "        4.80038673e-01, 4.90037054e-01, 5.00035465e-01, 5.10033846e-01,\n",
              "        5.20032287e-01, 5.30030668e-01, 5.40029049e-01, 5.50027490e-01,\n",
              "        5.60025871e-01, 5.70024252e-01, 5.80022693e-01, 5.90021074e-01,\n",
              "        6.00019455e-01, 6.10017896e-01, 6.20016277e-01, 6.30014658e-01,\n",
              "        6.40013099e-01, 6.50011480e-01, 6.60009861e-01, 6.70008302e-01,\n",
              "        6.80006683e-01, 6.90005064e-01, 7.00003505e-01, 7.10001886e-01,\n",
              "        7.20000267e-01, 7.29998708e-01, 7.39997089e-01, 7.49995470e-01,\n",
              "        7.59993911e-01, 7.69992292e-01, 7.79990733e-01, 7.89989114e-01,\n",
              "        7.99987495e-01, 8.09985936e-01, 8.19984317e-01, 8.29982698e-01,\n",
              "        8.39981139e-01, 8.49979520e-01, 8.59977901e-01, 8.69976342e-01,\n",
              "        8.79974723e-01, 8.89973104e-01, 8.99971545e-01, 9.09969926e-01,\n",
              "        9.19968307e-01, 9.29966748e-01, 9.39965129e-01, 9.49963510e-01,\n",
              "        9.59961951e-01, 9.69960332e-01, 9.79958713e-01, 9.89957154e-01,\n",
              "        9.99955535e-01], dtype=float32),\n",
              " <a list of 100 Patch objects>)"
            ]
          },
          "metadata": {
            "tags": []
          },
          "execution_count": 31
        },
        {
          "output_type": "display_data",
          "data": {
            "image/png": "[encoded data removed]",
            "text/plain": [
              "<Figure size 864x432 with 2 Axes>"
            ]
          },
          "metadata": {
            "tags": [],
            "needs_background": "light"
          }
        }
      ]
    },
    {
      "cell_type": "markdown",
      "metadata": {
        "id": "fUY8XUzLksC0"
      },
      "source": [
        "# **shuffle**\n",
        "- tf.random.shuffle(a)"
      ]
    },
    {
      "cell_type": "code",
      "metadata": {
        "id": "LO4L5lOfkqLd",
        "outputId": "7b3d5abc-8c6f-4d9f-a176-a12d140fb17d",
        "colab": {
          "base_uri": "https://localhost:8080/",
          "height": 53
        }
      },
      "source": [
        "import numpy as np\n",
        "a = np.arange(10)\n",
        "print(a)\n",
        "tf.random.shuffle(a)"
      ],
      "execution_count": null,
      "outputs": [
        {
          "output_type": "stream",
          "text": [
            "[0 1 2 3 4 5 6 7 8 9]\n"
          ],
          "name": "stdout"
        },
        {
          "output_type": "execute_result",
          "data": {
            "text/plain": [
              "<tf.Tensor: shape=(10,), dtype=int64, numpy=array([2, 7, 3, 1, 4, 9, 8, 6, 5, 0])>"
            ]
          },
          "metadata": {
            "tags": []
          },
          "execution_count": 26
        }
      ]
    },
    {
      "cell_type": "code",
      "metadata": {
        "id": "2w1cWBi5kvx6",
        "outputId": "1bb12975-28ab-4212-a79d-b526c0da668f",
        "colab": {
          "base_uri": "https://localhost:8080/",
          "height": 89
        }
      },
      "source": [
        "import numpy as np\n",
        "a = np.arange(20).reshape(4, 5)\n",
        "a"
      ],
      "execution_count": null,
      "outputs": [
        {
          "output_type": "execute_result",
          "data": {
            "text/plain": [
              "array([[ 0,  1,  2,  3,  4],\n",
              "       [ 5,  6,  7,  8,  9],\n",
              "       [10, 11, 12, 13, 14],\n",
              "       [15, 16, 17, 18, 19]])"
            ]
          },
          "metadata": {
            "tags": []
          },
          "execution_count": 27
        }
      ]
    },
    {
      "cell_type": "code",
      "metadata": {
        "id": "-_Tx0sixk9g-",
        "outputId": "bacdb975-a292-4864-c7e5-5a8698f9dbc0",
        "colab": {
          "base_uri": "https://localhost:8080/",
          "height": 107
        }
      },
      "source": [
        "tf.random.shuffle(a)"
      ],
      "execution_count": null,
      "outputs": [
        {
          "output_type": "execute_result",
          "data": {
            "text/plain": [
              "<tf.Tensor: shape=(4, 5), dtype=int64, numpy=\n",
              "array([[ 0,  1,  2,  3,  4],\n",
              "       [10, 11, 12, 13, 14],\n",
              "       [ 5,  6,  7,  8,  9],\n",
              "       [15, 16, 17, 18, 19]])>"
            ]
          },
          "metadata": {
            "tags": []
          },
          "execution_count": 28
        }
      ]
    }
  ]
}