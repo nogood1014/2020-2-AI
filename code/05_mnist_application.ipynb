{
  "nbformat": 4,
  "nbformat_minor": 0,
  "metadata": {
    "colab": {
      "name": "05-mnist-application.ipynb",
      "provenance": [],
      "collapsed_sections": [],
      "include_colab_link": true
    },
    "kernelspec": {
      "name": "python3",
      "display_name": "Python 3"
    }
  },
  "cells": [
    {
      "cell_type": "markdown",
      "metadata": {
        "id": "view-in-github",
        "colab_type": "text"
      },
      "source": [
        "<a href=\"https://colab.research.google.com/github/nogood1014/2020-2-AI/blob/main/05_mnist_application.ipynb\" target=\"_parent\"><img src=\"https://colab.research.google.com/assets/colab-badge.svg\" alt=\"Open In Colab\"/></a>"
      ]
    },
    {
      "cell_type": "code",
      "metadata": {
        "id": "qlscx2J-XShl",
        "colab": {
          "base_uri": "https://localhost:8080/",
          "height": 545
        },
        "outputId": "77c1dc0b-ac3f-4812-afbd-0bd44fb3530a"
      },
      "source": [
        "import tensorflow as tf\n",
        "\n",
        "# mnist 모듈 준비\n",
        "mnist = tf.keras.datasets.mnist\n",
        "\n",
        "# MNIST 데이터셋을 훈련과 테스트 데이터로 로드하여 준ㅂ;\n",
        "(x_train, y_train), (x_test, y_test) = mnist.load_data()\n",
        "\n",
        "# 샘플 값을 정수(0~255)에서 부동소수(0~1)로 변환\n",
        "x_train, x_test = x_train / 255.0, x_test / 255.0\n",
        "\n",
        "# 층을 차례대로 쌓아 tf.keras.Sequential 모델을 생성\n",
        "model = tf.keras.models.Sequential([\n",
        "    tf.keras.layers.Flatten(input_shape=(28, 28)),\n",
        "    tf.keras.layers.Dense(128, activation='relu'),\n",
        "    tf.keras.layers.Dropout(.2),\n",
        "    tf.keras.layers.Dense(10, activation='softmax')\n",
        "])\n",
        "\n",
        "# 훈련에 사용할 옵티마이저와 손실 함수, 출력 정보를 선택\n",
        "model.compile(optimizer = 'adam',\n",
        "              loss='sparse_categorical_crossentropy',\n",
        "              metrics = ['accuracy'])\n",
        "# 모델 요약 표시\n",
        "model.summary()\n",
        "#모델을 훈련 데이터로 총 5번 훈련\n",
        "model.fit(x_train, y_train, epochs=5)\n",
        "# 모델을 테스트 데이터로 평가\n",
        "model.evaluate(x_test, y_test)"
      ],
      "execution_count": null,
      "outputs": [
        {
          "output_type": "stream",
          "text": [
            "Downloading data from https://storage.googleapis.com/tensorflow/tf-keras-datasets/mnist.npz\n",
            "11493376/11490434 [==============================] - 0s 0us/step\n",
            "Model: \"sequential\"\n",
            "_________________________________________________________________\n",
            "Layer (type)                 Output Shape              Param #   \n",
            "=================================================================\n",
            "flatten (Flatten)            (None, 784)               0         \n",
            "_________________________________________________________________\n",
            "dense (Dense)                (None, 128)               100480    \n",
            "_________________________________________________________________\n",
            "dropout (Dropout)            (None, 128)               0         \n",
            "_________________________________________________________________\n",
            "dense_1 (Dense)              (None, 10)                1290      \n",
            "=================================================================\n",
            "Total params: 101,770\n",
            "Trainable params: 101,770\n",
            "Non-trainable params: 0\n",
            "_________________________________________________________________\n",
            "Epoch 1/5\n",
            "1875/1875 [==============================] - 3s 2ms/step - loss: 0.2981 - accuracy: 0.9137\n",
            "Epoch 2/5\n",
            "1875/1875 [==============================] - 3s 2ms/step - loss: 0.1462 - accuracy: 0.9569\n",
            "Epoch 3/5\n",
            "1875/1875 [==============================] - 3s 2ms/step - loss: 0.1089 - accuracy: 0.9671\n",
            "Epoch 4/5\n",
            "1875/1875 [==============================] - 3s 2ms/step - loss: 0.0902 - accuracy: 0.9722\n",
            "Epoch 5/5\n",
            "1875/1875 [==============================] - 3s 2ms/step - loss: 0.0738 - accuracy: 0.9769\n",
            "313/313 [==============================] - 0s 1ms/step - loss: 0.0903 - accuracy: 0.9712\n"
          ],
          "name": "stdout"
        },
        {
          "output_type": "execute_result",
          "data": {
            "text/plain": [
              "[0.09029663354158401, 0.9711999893188477]"
            ]
          },
          "metadata": {
            "tags": []
          },
          "execution_count": 1
        }
      ]
    },
    {
      "cell_type": "code",
      "metadata": {
        "id": "X0NKfTxuX-ah",
        "colab": {
          "base_uri": "https://localhost:8080/",
          "height": 158
        },
        "outputId": "db5142e7-d516-4ead-8902-c3ebe171e335"
      },
      "source": [
        "# 테스트 데이터의 첫 번째 손글씨 예측 결과를 확인\n",
        "print(x_test[:1].shape)\n",
        "\n",
        "pred_result = model.predict(x_test[:1])\n",
        "print(pred_result.shape)\n",
        "print(pred_result)\n",
        "print(pred_result[0])"
      ],
      "execution_count": null,
      "outputs": [
        {
          "output_type": "stream",
          "text": [
            "(1, 28, 28)\n",
            "(1, 10)\n",
            "[[5.54075985e-09 4.34150005e-09 3.04055834e-06 2.24949763e-04\n",
            "  1.06533296e-10 6.05535263e-07 6.68315687e-15 9.99752939e-01\n",
            "  2.91390847e-07 1.81946489e-05]]\n",
            "[5.54075985e-09 4.34150005e-09 3.04055834e-06 2.24949763e-04\n",
            " 1.06533296e-10 6.05535263e-07 6.68315687e-15 9.99752939e-01\n",
            " 2.91390847e-07 1.81946489e-05]\n"
          ],
          "name": "stdout"
        }
      ]
    },
    {
      "cell_type": "code",
      "metadata": {
        "id": "RKfsDZ6NdgjW",
        "colab": {
          "base_uri": "https://localhost:8080/",
          "height": 52
        },
        "outputId": "1265bfa2-d62a-47a7-95fd-ed16a9ee7b25"
      },
      "source": [
        "import numpy as np\n",
        "\n",
        "# 10개의 수를 더하면?\n",
        "one_pred = pred_result[0]\n",
        "print(one_pred.sum())\n",
        "\n",
        "#혹시 가장 큰 수가 있는 첨자가 결과\n",
        "one = np.argmax(one_pred)\n",
        "print(one)"
      ],
      "execution_count": null,
      "outputs": [
        {
          "output_type": "stream",
          "text": [
            "1.0\n",
            "7\n"
          ],
          "name": "stdout"
        }
      ]
    },
    {
      "cell_type": "code",
      "metadata": {
        "id": "wktNjgKEeJIX",
        "colab": {
          "base_uri": "https://localhost:8080/",
          "height": 69
        },
        "outputId": "dba4c792-1145-47e5-f4e8-e21a8d3a926c"
      },
      "source": [
        "import numpy as np\n",
        "\n",
        "# 10개의 수를 더하면?\n",
        "one_pred = pred_result[0]\n",
        "print(tf.reduce_sum(one_pred))\n",
        "print(tf.reduce_sum(one_pred).numpy())\n",
        "\n",
        "#혹시 가장 큰 수가 있는 첨자가 결과\n",
        "print(tf.argmax(one_pred).numpy())"
      ],
      "execution_count": null,
      "outputs": [
        {
          "output_type": "stream",
          "text": [
            "tf.Tensor(1.0, shape=(), dtype=float32)\n",
            "1.0\n",
            "7\n"
          ],
          "name": "stdout"
        }
      ]
    },
    {
      "cell_type": "code",
      "metadata": {
        "id": "cWJGf-NcfHK0",
        "colab": {
          "base_uri": "https://localhost:8080/",
          "height": 70
        },
        "outputId": "f4a5d8c1-37ad-4659-899d-e1a861fb6010"
      },
      "source": [
        "import numpy as np\n",
        "\n",
        "print(np.argmax([5, 4, 10, 1, 2]))\n",
        "print(np.argmax([3, 1, 4, 9, 6, 7, 2]))\n",
        "print(np.argmax([[0.1, 0.8, 0.1], [0.7, 0.2, 0.1], [0.2, 0.1, 0.7]], axis=1))"
      ],
      "execution_count": null,
      "outputs": [
        {
          "output_type": "stream",
          "text": [
            "2\n",
            "3\n",
            "[1 0 2]\n"
          ],
          "name": "stdout"
        }
      ]
    },
    {
      "cell_type": "code",
      "metadata": {
        "id": "mVK7cesafsnk",
        "colab": {
          "base_uri": "https://localhost:8080/",
          "height": 69
        },
        "outputId": "f8311c49-9a0a-4459-8b53-b4484963b21d"
      },
      "source": [
        "import numpy as np \n",
        "\n",
        "# 원 핫 인코딩과 argmax학습\n",
        "print(tf.argmax([5, 4, 10, 1, 2]))\n",
        "print(tf.argmax([3, 1, 4, 9, 6, 7, 2]))\n",
        "print(tf.argmax([[0.1, 0.8, 0.1], [0.7, 0.2, 0.1], [0.2, 0.1, 0.7]], axis=1))\n"
      ],
      "execution_count": null,
      "outputs": [
        {
          "output_type": "stream",
          "text": [
            "tf.Tensor(2, shape=(), dtype=int64)\n",
            "tf.Tensor(3, shape=(), dtype=int64)\n",
            "tf.Tensor([1 0 2], shape=(3,), dtype=int64)\n"
          ],
          "name": "stdout"
        }
      ]
    },
    {
      "cell_type": "code",
      "metadata": {
        "id": "hkg30vBggZ6g",
        "colab": {
          "base_uri": "https://localhost:8080/",
          "height": 262
        },
        "outputId": "0152c3d8-8430-41e3-8c51-861cae406b0f"
      },
      "source": [
        "import numpy as np\n",
        "\n",
        "# 10개의 수를 더하면?\n",
        "one_pred = pred_result[0]\n",
        "print(one_pred.sum())\n",
        "\n",
        "#혹시 가장 큰 수가 있는 첨자가 결과\n",
        "one = np.argmax(one_pred)\n",
        "print(one)\n",
        "\n",
        "import matplotlib.pyplot as plt\n",
        "\n",
        "plt.figure(figsize=(5, 3))\n",
        "tmp = \"Predict: \" + str(one) + \" Label: \" + str(y_test[0])\n",
        "plt.title(tmp)\n",
        "_ =plt.imshow(x_test[0], cmap=\"Greys\")\n",
        "\n"
      ],
      "execution_count": null,
      "outputs": [
        {
          "output_type": "stream",
          "text": [
            "1.0\n",
            "7\n"
          ],
          "name": "stdout"
        },
        {
          "output_type": "display_data",
          "data": {
            "image/png": "[encoded data removed]",
            "text/plain": [
              "<Figure size 360x216 with 1 Axes>"
            ]
          },
          "metadata": {
            "tags": [],
            "needs_background": "light"
          }
        }
      ]
    },
    {
      "cell_type": "code",
      "metadata": {
        "id": "iNC11kSGmisb",
        "colab": {
          "base_uri": "https://localhost:8080/",
          "height": 121
        },
        "outputId": "d6ded32d-6017-446a-8a65-80bd84169817"
      },
      "source": [
        " import numpy as np\n",
        " \n",
        " data = np.arange(1, 11).reshape(5, 2).astype(np.float32)\n",
        " print(data)\n",
        " np.sum(data)"
      ],
      "execution_count": null,
      "outputs": [
        {
          "output_type": "stream",
          "text": [
            "[[ 1.  2.]\n",
            " [ 3.  4.]\n",
            " [ 5.  6.]\n",
            " [ 7.  8.]\n",
            " [ 9. 10.]]\n"
          ],
          "name": "stdout"
        },
        {
          "output_type": "execute_result",
          "data": {
            "text/plain": [
              "55.0"
            ]
          },
          "metadata": {
            "tags": []
          },
          "execution_count": 29
        }
      ]
    },
    {
      "cell_type": "code",
      "metadata": {
        "id": "aMApYJUAep2y",
        "colab": {
          "base_uri": "https://localhost:8080/",
          "height": 139
        },
        "outputId": "0efb75e5-34e5-4bc3-fa02-3d7442f8aebe"
      },
      "source": [
        "import tensorflow as tf\n",
        "\n",
        "tf.random.set_seed(0)\n",
        "layer = tf.keras.layers.Dropout(.3, input_shape=(2, ))\n",
        "outputs = layer(data, training=True)\n",
        "print(outputs)\n",
        "np.sum(outputs)"
      ],
      "execution_count": null,
      "outputs": [
        {
          "output_type": "stream",
          "text": [
            "tf.Tensor(\n",
            "[[ 0.         0.       ]\n",
            " [ 4.285714   5.714286 ]\n",
            " [ 7.1428576  8.571428 ]\n",
            " [10.        11.428572 ]\n",
            " [12.857143   0.       ]], shape=(5, 2), dtype=float32)\n"
          ],
          "name": "stdout"
        },
        {
          "output_type": "execute_result",
          "data": {
            "text/plain": [
              "60.0"
            ]
          },
          "metadata": {
            "tags": []
          },
          "execution_count": 30
        }
      ]
    },
    {
      "cell_type": "code",
      "metadata": {
        "id": "TdY04bdZqZq1",
        "colab": {
          "base_uri": "https://localhost:8080/",
          "height": 140
        },
        "outputId": "0f50c7ac-0cf7-4a92-849f-78fc8e1116a8"
      },
      "source": [
        "from random import sample\n",
        "import numpy as np\n",
        "\n",
        "# x_test로 직접 결과 처리\n",
        "pred_result = model.predict(x_test)\n",
        "print(pred_result.shape)\n",
        "print(pred_result[0])\n",
        "print(np.argmax(pred_result[0]))\n",
        "\n",
        "# 원핫 인코딩을 일반 데이터로 변환\n",
        "pred_labels = np.argmax(pred_result, axis=1)\n",
        "# 예측한 답 출력\n",
        "print(pred_labels)\n",
        "# 실제 정답 출력\n",
        "print(y_test)"
      ],
      "execution_count": null,
      "outputs": [
        {
          "output_type": "stream",
          "text": [
            "(10000, 10)\n",
            "[2.06433040e-08 7.43327320e-08 1.09673265e-05 4.36635542e-04\n",
            " 2.40519896e-11 6.51216547e-09 5.06972611e-13 9.99548376e-01\n",
            " 1.28066560e-07 3.83306724e-06]\n",
            "7\n",
            "[7 2 1 ... 4 5 6]\n",
            "[7 2 1 ... 4 5 6]\n"
          ],
          "name": "stdout"
        }
      ]
    },
    {
      "cell_type": "markdown",
      "metadata": {
        "id": "8l8izWBDviFw"
      },
      "source": [
        "임이의 20개 예측 값과 정답 그리기\n"
      ]
    },
    {
      "cell_type": "code",
      "metadata": {
        "id": "pIFXfrpktJ2T",
        "colab": {
          "base_uri": "https://localhost:8080/",
          "height": 614
        },
        "outputId": "0df45734-87a2-43cf-86f6-525e0df2bc0b"
      },
      "source": [
        "from random import sample\n",
        "import numpy as np\n",
        "\n",
        "# 예측한 softmax의 확률이 있는 리스트 pred_result\n",
        "pred_result = model.predict(x_test)\n",
        "\n",
        "# 실제 예측한 정답이 있는 리스트 pred_labels\n",
        "pred_labels = np.argmax(pred_result, axis=1)\n",
        "\n",
        "# 랜덤하게 20개의 훈련용 자료를 예측 값과 정답, 그림을 그려보자\n",
        "nrows, ncols = 5, 4     # 출력 가로 세로 수\n",
        "samples = sorted(sample(range(len(x_test)), nrows * ncols))   # 출력할 첨자 선정\n",
        "\n",
        "# 임의의 20개 그리기\n",
        "count = 0\n",
        "plt.figure(figsize=(12,10))\n",
        "for n in samples:\n",
        "    count += 1\n",
        "    plt.subplot(nrows, ncols, count)\n",
        "    # 예측이 틀린 것은 파란색으로 그리기\n",
        "    cmap = 'Greys' if (pred_labels[n] == y_test[n]) else 'Blues'\n",
        "    plt.imshow(x_test[n].reshape(28, 28), cmap=cmap, interpolation='nearest')\n",
        "    tmp = \"Label:\" + str(y_test[n]) + \", Prediction:\" + str(pred_labels[n])\n",
        "    plt.title(tmp)\n",
        "\n",
        "plt.tight_layout()\n",
        "plt.show()"
      ],
      "execution_count": null,
      "outputs": [
        {
          "output_type": "display_data",
          "data": {
            "image/png": "[encoded data removed]",
            "text/plain": [
              "<Figure size 864x720 with 20 Axes>"
            ]
          },
          "metadata": {
            "tags": [],
            "needs_background": "light"
          }
        }
      ]
    },
    {
      "cell_type": "code",
      "metadata": {
        "id": "n0EAHvR2GimH"
      },
      "source": [
        "예측이 잘못된 20개 샘플로 그리기"
      ],
      "execution_count": null,
      "outputs": []
    },
    {
      "cell_type": "code",
      "metadata": {
        "id": "qQ1kiYC4wNMv",
        "colab": {
          "base_uri": "https://localhost:8080/",
          "height": 669
        },
        "outputId": "de56f1e5-5939-494d-9d27-75cd42ad99e6"
      },
      "source": [
        "from random import sample\n",
        "import numpy as np\n",
        "\n",
        "# 예측이 틀린 것 첨자를 저장할 리스트\n",
        "mispred = []\n",
        "# 예측한 softmax의 확률이 있는 리스트 pred_result\n",
        "pred_result = model.predict(x_test)\n",
        "\n",
        "# 실제 예측한 정답이 있는 리스트 pred_labels\n",
        "pred_labels = np.argmax(pred_result, axis=1)\n",
        "\n",
        "for n in range(0, len(y_test)):\n",
        "  if pred_labels[n] != y_test[n]:       # 예측이 틀린 조건\n",
        "    mispred.append(n)\n",
        "print('정답이 틀린 수', len(mispred))\n",
        "\n",
        "#랜덤하게 틀린 것 20개의 첨자 리스트 생성\n",
        "samples = sample(mispred, 20)\n",
        "print(samples)\n",
        "\n",
        "count = 0\n",
        "nrows, ncols = 5, 4\n",
        "plt.figure(figsize=(12, 10))\n",
        "for n in samples:\n",
        "  count += 1\n",
        "  plt.subplot(nrows, ncols, count)\n",
        "  plt.imshow(x_test[n].reshape(28, 28), cmap=\"Greys\", interpolation='nearest')\n",
        "  tmp = \"Label:\" + str(y_test[n]) + \", Prediction:\" + str(pred_labels[n])\n",
        "  plt.title(tmp)\n",
        "\n",
        "plt.tight_layout()\n",
        "plt.show()"
      ],
      "execution_count": null,
      "outputs": [
        {
          "output_type": "stream",
          "text": [
            "정답이 틀린 수 237\n",
            "[924, 9024, 2118, 610, 810, 5955, 115, 1717, 9642, 3838, 6166, 2713, 1247, 1952, 1609, 8094, 1670, 6030, 3384, 4224]\n"
          ],
          "name": "stdout"
        },
        {
          "output_type": "display_data",
          "data": {
            "image/png": "[encoded data removed]",
            "text/plain": [
              "<Figure size 864x720 with 20 Axes>"
            ]
          },
          "metadata": {
            "tags": [],
            "needs_background": "light"
          }
        }
      ]
    },
    {
      "cell_type": "markdown",
      "metadata": {
        "id": "5eLF4InFzPWo"
      },
      "source": [
        "중간층을 늘리고 훈련 횟수를 증가 (중간!)"
      ]
    },
    {
      "cell_type": "code",
      "metadata": {
        "id": "Xx3XnPftzVaL",
        "colab": {
          "base_uri": "https://localhost:8080/",
          "height": 1000
        },
        "outputId": "54d7359b-2204-49cd-bbc0-275c79db5e2e"
      },
      "source": [
        "import tensorflow as tf\n",
        "\n",
        "# mnist 모듈 준비\n",
        "mnist = tf.keras.datasets.mnist\n",
        "# MNIST 데이터셋을 훈련과 테스트 데이터로 로드하여 준비\n",
        "(x_train, y_train), (x_test, y_test) = mnist.load_data()\n",
        "# 샘플 값을 정수(0~255)에서 부동소수(0~1)로 변환\n",
        "x_train, x_test = x_train / 255.0, x_test / 255.0\n",
        "\n",
        "# 층을 차례대로 쌓아 tf.keras.Sequential 모델을 생성\n",
        "model = tf.keras.models.Sequential([\n",
        "    tf.keras.layers.Flatten(input_shape=(28, 28)),\n",
        "    tf.keras.layers.Dense(128, activation='relu'),\n",
        "    tf.keras.layers.Dropout(.2),\n",
        "    tf.keras.layers.Dense(64, activation='relu'),\n",
        "    tf.keras.layers.Dropout(.2),\n",
        "    tf.keras.layers.Dense(10, activation='softmax')\n",
        "])\n",
        "\n",
        "#훈련에 사용할 옵티마이저와 손실 함수, 출력정보를 선택\n",
        "model.compile(optimizer='adam', loss='sparse_categorical_crossentropy',\n",
        "              metrics=['accuracy'])\n",
        "#모델 요약 표시\n",
        "model.summary()\n",
        "#모델을 훈련 데이터로 총 20번 훈련\n",
        "model.fit(x_train, y_train, epochs=20)\n",
        "#모델을 테스트 데이터로 평가\n",
        "model.evaluate(x_test, y_test)\n"
      ],
      "execution_count": null,
      "outputs": [
        {
          "output_type": "stream",
          "text": [
            "Model: \"sequential_2\"\n",
            "_________________________________________________________________\n",
            "Layer (type)                 Output Shape              Param #   \n",
            "=================================================================\n",
            "flatten_2 (Flatten)          (None, 784)               0         \n",
            "_________________________________________________________________\n",
            "dense_4 (Dense)              (None, 128)               100480    \n",
            "_________________________________________________________________\n",
            "dropout_2 (Dropout)          (None, 128)               0         \n",
            "_________________________________________________________________\n",
            "dense_5 (Dense)              (None, 64)                8256      \n",
            "_________________________________________________________________\n",
            "dropout_3 (Dropout)          (None, 64)                0         \n",
            "_________________________________________________________________\n",
            "dense_6 (Dense)              (None, 10)                650       \n",
            "=================================================================\n",
            "Total params: 109,386\n",
            "Trainable params: 109,386\n",
            "Non-trainable params: 0\n",
            "_________________________________________________________________\n",
            "Epoch 1/20\n",
            "1875/1875 [==============================] - 4s 2ms/step - loss: 0.3338 - accuracy: 0.9018\n",
            "Epoch 2/20\n",
            "1875/1875 [==============================] - 4s 2ms/step - loss: 0.1625 - accuracy: 0.9510\n",
            "Epoch 3/20\n",
            "1875/1875 [==============================] - 4s 2ms/step - loss: 0.1289 - accuracy: 0.9610\n",
            "Epoch 4/20\n",
            "1875/1875 [==============================] - 4s 2ms/step - loss: 0.1065 - accuracy: 0.9679\n",
            "Epoch 5/20\n",
            "1875/1875 [==============================] - 4s 2ms/step - loss: 0.0916 - accuracy: 0.9716\n",
            "Epoch 6/20\n",
            "1875/1875 [==============================] - 4s 2ms/step - loss: 0.0853 - accuracy: 0.9733\n",
            "Epoch 7/20\n",
            "1875/1875 [==============================] - 4s 2ms/step - loss: 0.0756 - accuracy: 0.9756\n",
            "Epoch 8/20\n",
            "1875/1875 [==============================] - 4s 2ms/step - loss: 0.0741 - accuracy: 0.9768\n",
            "Epoch 9/20\n",
            "1875/1875 [==============================] - 4s 2ms/step - loss: 0.0669 - accuracy: 0.9783\n",
            "Epoch 10/20\n",
            "1875/1875 [==============================] - 4s 2ms/step - loss: 0.0615 - accuracy: 0.9804\n",
            "Epoch 11/20\n",
            "1875/1875 [==============================] - 4s 2ms/step - loss: 0.0573 - accuracy: 0.9816\n",
            "Epoch 12/20\n",
            "1875/1875 [==============================] - 4s 2ms/step - loss: 0.0567 - accuracy: 0.9816\n",
            "Epoch 13/20\n",
            "1875/1875 [==============================] - 5s 3ms/step - loss: 0.0539 - accuracy: 0.9824\n",
            "Epoch 14/20\n",
            "1875/1875 [==============================] - 4s 2ms/step - loss: 0.0512 - accuracy: 0.9837\n",
            "Epoch 15/20\n",
            "1875/1875 [==============================] - 4s 2ms/step - loss: 0.0520 - accuracy: 0.9834\n",
            "Epoch 16/20\n",
            "1875/1875 [==============================] - 4s 2ms/step - loss: 0.0477 - accuracy: 0.9842\n",
            "Epoch 17/20\n",
            "1875/1875 [==============================] - 4s 2ms/step - loss: 0.0463 - accuracy: 0.9851\n",
            "Epoch 18/20\n",
            "1875/1875 [==============================] - 4s 2ms/step - loss: 0.0464 - accuracy: 0.9847\n",
            "Epoch 19/20\n",
            "1875/1875 [==============================] - 4s 2ms/step - loss: 0.0444 - accuracy: 0.9862\n",
            "Epoch 20/20\n",
            "1875/1875 [==============================] - 4s 2ms/step - loss: 0.0437 - accuracy: 0.9857\n",
            "313/313 [==============================] - 0s 1ms/step - loss: 0.0836 - accuracy: 0.9800\n"
          ],
          "name": "stdout"
        },
        {
          "output_type": "execute_result",
          "data": {
            "text/plain": [
              "[0.08361346274614334, 0.9800000190734863]"
            ]
          },
          "metadata": {
            "tags": []
          },
          "execution_count": 24
        }
      ]
    },
    {
      "cell_type": "markdown",
      "metadata": {
        "id": "n9t6NcXf4LzX"
      },
      "source": [
        "reshape()로 평탄화 작업을 수행 후 Dense() 층 사용"
      ]
    },
    {
      "cell_type": "code",
      "metadata": {
        "id": "FAqRaiJO4RLA",
        "colab": {
          "base_uri": "https://localhost:8080/",
          "height": 490
        },
        "outputId": "806bf11e-b665-407d-e42f-eb47098bc670"
      },
      "source": [
        "import tensorflow as tf\n",
        "\n",
        "# mnist 모듈 준비\n",
        "mnist = tf.keras.datasets.mnist\n",
        "# MNIST 데이터셋을 훈련과 테스트 데이터로 로드하여 준비\n",
        "(x_train, y_train), (x_test, y_test) = mnist.load_data()\n",
        "# 샘플 값을 정수(0~255)에서 부동소수(0~1)로 변환\n",
        "x_train, x_test = x_train / 255.0, x_test / 255.0\n",
        "\n",
        "# 평탄화 작업 수행\n",
        "x_train = x_train.reshape((60000, 28*28))\n",
        "x_test = x_test.reshape((10000, 28*28))\n",
        "\n",
        "# 층을 차례대로 쌓아 tf.keras.Sequential 모델을 생성\n",
        "model = tf.keras.models.Sequential([\n",
        "   # tf.keras.layers.Flatten(input_shape=(28, 28)),\n",
        "    tf.keras.layers.Dense(128, activation='relu', input_shape=(28 * 28,)),\n",
        "    tf.keras.layers.Dropout(0.2),\n",
        "    tf.keras.layers.Dense(10, activation='softmax')\n",
        "])\n",
        "\n",
        "#모델 요약 표시\n",
        "model.summary()\n",
        "\n",
        "#훈련에 사용할 옵티마이저와 손실 함수, 출력정보를 선택\n",
        "model.compile(optimizer='adam', loss='sparse_categorical_crossentropy',\n",
        "              metrics=['accuracy'])\n",
        "\n",
        "#모델을 훈련 데이터로 총 5번 훈련\n",
        "model.fit(x_train, y_train, epochs=20)\n",
        "#모델을 테스트 데이터로 평가\n",
        "model.evaluate(x_test, y_test)\n"
      ],
      "execution_count": null,
      "outputs": [
        {
          "output_type": "stream",
          "text": [
            "Model: \"sequential_4\"\n",
            "_________________________________________________________________\n",
            "Layer (type)                 Output Shape              Param #   \n",
            "=================================================================\n",
            "dense_9 (Dense)              (None, 128)               100480    \n",
            "_________________________________________________________________\n",
            "dropout_11 (Dropout)         (None, 128)               0         \n",
            "_________________________________________________________________\n",
            "dense_10 (Dense)             (None, 10)                1290      \n",
            "=================================================================\n",
            "Total params: 101,770\n",
            "Trainable params: 101,770\n",
            "Non-trainable params: 0\n",
            "_________________________________________________________________\n",
            "Epoch 1/20\n",
            "1875/1875 [==============================] - 4s 2ms/step - loss: 0.2987 - accuracy: 0.9131\n",
            "Epoch 2/20\n",
            "1875/1875 [==============================] - 4s 2ms/step - loss: 0.1458 - accuracy: 0.9565\n",
            "Epoch 3/20\n",
            "1875/1875 [==============================] - 4s 2ms/step - loss: 0.1078 - accuracy: 0.9672\n",
            "Epoch 4/20\n",
            "1875/1875 [==============================] - 4s 2ms/step - loss: 0.0881 - accuracy: 0.9729\n",
            "Epoch 5/20\n",
            "1875/1875 [==============================] - 4s 2ms/step - loss: 0.0764 - accuracy: 0.9762\n",
            "Epoch 6/20\n",
            " 266/1875 [===>..........................] - ETA: 3s - loss: 0.0643 - accuracy: 0.9799"
          ],
          "name": "stdout"
        }
      ]
    }
  ]
}
