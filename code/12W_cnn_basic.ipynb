{
  "nbformat": 4,
  "nbformat_minor": 0,
  "metadata": {
    "colab": {
      "name": "12W-cnn-basic.ipynb",
      "provenance": [],
      "include_colab_link": true
    },
    "kernelspec": {
      "name": "python3",
      "display_name": "Python 3"
    }
  },
  "cells": [
    {
      "cell_type": "markdown",
      "metadata": {
        "id": "view-in-github",
        "colab_type": "text"
      },
      "source": [
        "<a href=\"https://colab.research.google.com/github/nogood1014/2020-2-AI/blob/main/code/12W_cnn_basic.ipynb\" target=\"_parent\"><img src=\"https://colab.research.google.com/assets/colab-badge.svg\" alt=\"Open In Colab\"/></a>"
      ]
    },
    {
      "cell_type": "code",
      "metadata": {
        "id": "CwvNTHczGzon"
      },
      "source": [
        "# %matplotlib inline\r\n",
        "import numpy as np\r\n",
        "import tensorflow as tf\r\n",
        "import matplotlib.pyplot as plt"
      ],
      "execution_count": null,
      "outputs": []
    },
    {
      "cell_type": "code",
      "metadata": {
        "colab": {
          "base_uri": "https://localhost:8080/",
          "height": 500
        },
        "id": "9b5iz7F1G9rO",
        "outputId": "56cbf11d-4d4b-4abc-bcf8-5edab4daa9fb"
      },
      "source": [
        "image = np.array([[[1,2,3],\r\n",
        "                   [4,5,6], \r\n",
        "                   [7,8,9]]], dtype=np.float32)\r\n",
        "print(image.shape)\r\n",
        "\r\n",
        "image = image.reshape(-1, 3, 3, 1)\r\n",
        "'''\r\n",
        "image = np.array([[[[1],[2],[3]],\r\n",
        "                   [[4],[5],[6]], \r\n",
        "                   [[7],[8],[9]]]], dtype=np.float32)\r\n",
        "'''\r\n",
        "image.shape\r\n",
        "print(image)\r\n",
        "plt.imshow(image.reshape(3,3), cmap='Greys')"
      ],
      "execution_count": null,
      "outputs": [
        {
          "output_type": "stream",
          "text": [
            "(1, 3, 3)\n",
            "[[[[1.]\n",
            "   [2.]\n",
            "   [3.]]\n",
            "\n",
            "  [[4.]\n",
            "   [5.]\n",
            "   [6.]]\n",
            "\n",
            "  [[7.]\n",
            "   [8.]\n",
            "   [9.]]]]\n"
          ],
          "name": "stdout"
        },
        {
          "output_type": "execute_result",
          "data": {
            "text/plain": [
              "<matplotlib.image.AxesImage at 0x7fcea3c696d8>"
            ]
          },
          "metadata": {
            "tags": []
          },
          "execution_count": 3
        },
        {
          "output_type": "display_data",
          "data": {
            "image/png": "[encoded data removed]",
            "text/plain": [
              "<Figure size 432x288 with 1 Axes>"
            ]
          },
          "metadata": {
            "tags": [],
            "needs_background": "light"
          }
        }
      ]
    },
    {
      "cell_type": "code",
      "metadata": {
        "colab": {
          "base_uri": "https://localhost:8080/",
          "height": 305
        },
        "id": "fA8yhZ8pHIpR",
        "outputId": "edc610cb-3393-4d47-e974-ca276c27ed0e"
      },
      "source": [
        "image = np.array([[[[1],[2],[3]],\r\n",
        "                   [[4],[5],[6]], \r\n",
        "                   [[7],[8],[9]]]], dtype=np.float32)\r\n",
        "print(image.shape)\r\n",
        "plt.imshow(image.reshape(3,3), cmap='Greys')"
      ],
      "execution_count": null,
      "outputs": [
        {
          "output_type": "stream",
          "text": [
            "(1, 3, 3, 1)\n"
          ],
          "name": "stdout"
        },
        {
          "output_type": "execute_result",
          "data": {
            "text/plain": [
              "<matplotlib.image.AxesImage at 0x7fcea37bb240>"
            ]
          },
          "metadata": {
            "tags": []
          },
          "execution_count": 4
        },
        {
          "output_type": "display_data",
          "data": {
            "image/png": "[encoded data removed]",
            "text/plain": [
              "<Figure size 432x288 with 1 Axes>"
            ]
          },
          "metadata": {
            "tags": [],
            "needs_background": "light"
          }
        }
      ]
    },
    {
      "cell_type": "code",
      "metadata": {
        "colab": {
          "base_uri": "https://localhost:8080/"
        },
        "id": "YbILMQXEHVCf",
        "outputId": "5136a2a8-edc1-46ce-8fa6-67347cc212e3"
      },
      "source": [
        "image = np.array([[[[1],[2],[3]],\r\n",
        "                   [[4],[5],[6]], \r\n",
        "                   [[7],[8],[9]]]], dtype=np.float32)\r\n",
        "print(\"image.shape\", image.shape)\r\n",
        "\r\n",
        "# wight가 커널\r\n",
        "weight = tf.constant([[[[1.]],[[1.]]],\r\n",
        "                      [[[1.]],[[1.]]]])\r\n",
        "print(\"weight.shape\", weight.shape)\r\n",
        "\r\n",
        "conv2d = tf.nn.conv2d(image, weight, strides=[1, 1, 1, 1], padding='VALID')\r\n",
        "print(\"conv2d.shape\", conv2d.shape)\r\n",
        "\r\n",
        "conv2d_img = np.swapaxes(conv2d, 0, 3)\r\n",
        "print(\"conv2d_img.shape\", conv2d_img.shape)\r\n",
        "print(type(conv2d_img))\r\n",
        "print(conv2d_img)"
      ],
      "execution_count": null,
      "outputs": [
        {
          "output_type": "stream",
          "text": [
            "image.shape (1, 3, 3, 1)\n",
            "weight.shape (2, 2, 1, 1)\n",
            "conv2d.shape (1, 2, 2, 1)\n",
            "conv2d_img.shape (1, 2, 2, 1)\n",
            "<class 'numpy.ndarray'>\n",
            "[[[[12.]\n",
            "   [16.]]\n",
            "\n",
            "  [[24.]\n",
            "   [28.]]]]\n"
          ],
          "name": "stdout"
        }
      ]
    },
    {
      "cell_type": "code",
      "metadata": {
        "colab": {
          "base_uri": "https://localhost:8080/",
          "height": 305
        },
        "id": "GUWLIRv1HXvM",
        "outputId": "c20222ac-a6b8-4f0d-ec2e-4059bc65b067"
      },
      "source": [
        "for i, one_img in enumerate(conv2d_img):\r\n",
        "    print(one_img.reshape(2,2))\r\n",
        "    plt.subplot(1, 1, i+1)\r\n",
        "    plt.imshow(one_img.reshape(2,2), cmap='gray')"
      ],
      "execution_count": null,
      "outputs": [
        {
          "output_type": "stream",
          "text": [
            "[[12. 16.]\n",
            " [24. 28.]]\n"
          ],
          "name": "stdout"
        },
        {
          "output_type": "display_data",
          "data": {
            "image/png": "[encoded data removed]",
            "text/plain": [
              "<Figure size 432x288 with 1 Axes>"
            ]
          },
          "metadata": {
            "tags": [],
            "needs_background": "light"
          }
        }
      ]
    },
    {
      "cell_type": "code",
      "metadata": {
        "colab": {
          "base_uri": "https://localhost:8080/"
        },
        "id": "Lr-ImMRMHZhd",
        "outputId": "73183e88-c078-4032-ffe5-d7abd70bb1b2"
      },
      "source": [
        "x_in = np.array([[\r\n",
        "  [[2], [1], [2], [0], [1]],\r\n",
        "  [[1], [3], [2], [2], [3]],\r\n",
        "  [[1], [1], [3], [3], [0]],\r\n",
        "  [[2], [2], [0], [1], [1]],\r\n",
        "  [[0], [0], [3], [1], [2]], ]])\r\n",
        "x = tf.constant(x_in, dtype=tf.float32)\r\n",
        "print(x.shape)\r\n",
        "\r\n",
        "# 2 x 2 커널 2개 적용\r\n",
        "kernel_in = np.array([\r\n",
        " [ [[2, 0.1]],[[3, 0.2]] ],\r\n",
        " [ [[0, 0.3]],[[1, 0.4]] ], ])\r\n",
        "kernel = tf.constant(kernel_in, dtype=tf.float32)\r\n",
        "print(kernel)"
      ],
      "execution_count": null,
      "outputs": [
        {
          "output_type": "stream",
          "text": [
            "(1, 5, 5, 1)\n",
            "tf.Tensor(\n",
            "[[[[2.  0.1]]\n",
            "\n",
            "  [[3.  0.2]]]\n",
            "\n",
            "\n",
            " [[[0.  0.3]]\n",
            "\n",
            "  [[1.  0.4]]]], shape=(2, 2, 1, 2), dtype=float32)\n"
          ],
          "name": "stdout"
        }
      ]
    },
    {
      "cell_type": "code",
      "metadata": {
        "colab": {
          "base_uri": "https://localhost:8080/"
        },
        "id": "NWaFNiE0HrAc",
        "outputId": "21f576e5-1229-4b25-e928-b84f89944647"
      },
      "source": [
        "conv2d = tf.nn.conv2d(x, kernel, strides=[1, 1, 1, 1], padding='VALID')\r\n",
        "print(\"conv2d.shape\", conv2d.shape) #1, 4, 4, 2 = 채널, 가로, 세로, 특징 수\r\n",
        "print(conv2d)"
      ],
      "execution_count": null,
      "outputs": [
        {
          "output_type": "stream",
          "text": [
            "conv2d.shape (1, 4, 4, 2)\n",
            "tf.Tensor(\n",
            "[[[[10.         1.9000001]\n",
            "   [10.         2.2      ]\n",
            "   [ 6.         1.6      ]\n",
            "   [ 6.         2.       ]]\n",
            "\n",
            "  [[12.         1.4      ]\n",
            "   [15.         2.2      ]\n",
            "   [13.         2.7      ]\n",
            "   [13.         1.7      ]]\n",
            "\n",
            "  [[ 7.         1.7      ]\n",
            "   [11.         1.3      ]\n",
            "   [16.         1.3000001]\n",
            "   [ 7.         1.       ]]\n",
            "\n",
            "  [[10.         0.6      ]\n",
            "   [ 7.         1.4      ]\n",
            "   [ 4.         1.5      ]\n",
            "   [ 7.         1.4000001]]]], shape=(1, 4, 4, 2), dtype=float32)\n"
          ],
          "name": "stdout"
        }
      ]
    },
    {
      "cell_type": "code",
      "metadata": {
        "colab": {
          "base_uri": "https://localhost:8080/"
        },
        "id": "6QbbFjVyHzFC",
        "outputId": "f3dfbd9a-997d-4ad6-9706-346f47942bf0"
      },
      "source": [
        "# (1, 4, 4, 2) = 채널, 가로, 세로, 특징 수\r\n",
        "# 채널과 특징을 교환하여 그림을 그리도록 하기 위해\r\n",
        "conv2d_img = np.swapaxes(conv2d, 0, 3)\r\n",
        "print(\"conv2d.shape\", conv2d_img.shape) #2, 4, 4, 1 = 특징 수, 가로, 세로, 채널\r\n",
        "print(conv2d_img)"
      ],
      "execution_count": null,
      "outputs": [
        {
          "output_type": "stream",
          "text": [
            "conv2d.shape (2, 4, 4, 1)\n",
            "[[[[10.       ]\n",
            "   [10.       ]\n",
            "   [ 6.       ]\n",
            "   [ 6.       ]]\n",
            "\n",
            "  [[12.       ]\n",
            "   [15.       ]\n",
            "   [13.       ]\n",
            "   [13.       ]]\n",
            "\n",
            "  [[ 7.       ]\n",
            "   [11.       ]\n",
            "   [16.       ]\n",
            "   [ 7.       ]]\n",
            "\n",
            "  [[10.       ]\n",
            "   [ 7.       ]\n",
            "   [ 4.       ]\n",
            "   [ 7.       ]]]\n",
            "\n",
            "\n",
            " [[[ 1.9000001]\n",
            "   [ 2.2      ]\n",
            "   [ 1.6      ]\n",
            "   [ 2.       ]]\n",
            "\n",
            "  [[ 1.4      ]\n",
            "   [ 2.2      ]\n",
            "   [ 2.7      ]\n",
            "   [ 1.7      ]]\n",
            "\n",
            "  [[ 1.7      ]\n",
            "   [ 1.3      ]\n",
            "   [ 1.3000001]\n",
            "   [ 1.       ]]\n",
            "\n",
            "  [[ 0.6      ]\n",
            "   [ 1.4      ]\n",
            "   [ 1.5      ]\n",
            "   [ 1.4000001]]]]\n"
          ],
          "name": "stdout"
        }
      ]
    },
    {
      "cell_type": "code",
      "metadata": {
        "colab": {
          "base_uri": "https://localhost:8080/",
          "height": 342
        },
        "id": "3InViOoCH3QD",
        "outputId": "80e3c87e-07cb-4680-edaa-e350e19243f2"
      },
      "source": [
        "for i, one_img in enumerate(conv2d_img):\r\n",
        "    print(one_img.reshape(4,4))\r\n",
        "    plt.subplot(1,2,i+1), plt.imshow(one_img.reshape(4,4), cmap='gray')"
      ],
      "execution_count": null,
      "outputs": [
        {
          "output_type": "stream",
          "text": [
            "[[10. 10.  6.  6.]\n",
            " [12. 15. 13. 13.]\n",
            " [ 7. 11. 16.  7.]\n",
            " [10.  7.  4.  7.]]\n",
            "[[1.9000001 2.2       1.6       2.       ]\n",
            " [1.4       2.2       2.7       1.7      ]\n",
            " [1.7       1.3       1.3000001 1.       ]\n",
            " [0.6       1.4       1.5       1.4000001]]\n"
          ],
          "name": "stdout"
        },
        {
          "output_type": "display_data",
          "data": {
            "image/png": "[encoded data removed]",
            "text/plain": [
              "<Figure size 432x288 with 2 Axes>"
            ]
          },
          "metadata": {
            "tags": [],
            "needs_background": "light"
          }
        }
      ]
    },
    {
      "cell_type": "code",
      "metadata": {
        "colab": {
          "base_uri": "https://localhost:8080/",
          "height": 311
        },
        "id": "_0CUo1C2H7Ia",
        "outputId": "65ca09cf-1e9e-4f08-980f-310a9b8ee01f"
      },
      "source": [
        "image = np.array([[[[1],[2],[3]],\r\n",
        "                   [[4],[5],[6]], \r\n",
        "                   [[7],[8],[9]]]], dtype=np.float32)\r\n",
        "print(\"image.shape\", image.shape)\r\n",
        "\r\n",
        "weight = tf.constant([[[[1.]],[[1.]]],\r\n",
        "                      [[[1.]],[[1.]]]])\r\n",
        "print(\"weight.shape\", weight.shape)\r\n",
        "\r\n",
        "conv2d = tf.nn.conv2d(image, weight, strides=[1, 1, 1, 1], padding='SAME')\r\n",
        "print(\"conv2d.shape\", conv2d.shape)\r\n",
        "\r\n",
        "conv2d_img = np.swapaxes(conv2d, 0, 3)\r\n",
        "for i, one_img in enumerate(conv2d_img):\r\n",
        "    print(one_img.reshape(3,3))\r\n",
        "    plt.subplot(1,2,i+1), plt.imshow(one_img.reshape(3,3), cmap='gray')"
      ],
      "execution_count": null,
      "outputs": [
        {
          "output_type": "stream",
          "text": [
            "image.shape (1, 3, 3, 1)\n",
            "weight.shape (2, 2, 1, 1)\n",
            "conv2d.shape (1, 3, 3, 1)\n",
            "[[12. 16.  9.]\n",
            " [24. 28. 15.]\n",
            " [15. 17.  9.]]\n"
          ],
          "name": "stdout"
        },
        {
          "output_type": "display_data",
          "data": {
            "image/png": "[encoded data removed]",
            "text/plain": [
              "<Figure size 432x288 with 1 Axes>"
            ]
          },
          "metadata": {
            "tags": [],
            "needs_background": "light"
          }
        }
      ]
    },
    {
      "cell_type": "code",
      "metadata": {
        "colab": {
          "base_uri": "https://localhost:8080/",
          "height": 359
        },
        "id": "B-au9z6BIDUC",
        "outputId": "ea8204a4-dd0e-4350-d759-5ed54373634c"
      },
      "source": [
        "image = np.array([[[[1],[2],[3]],\r\n",
        "                   [[4],[5],[6]], \r\n",
        "                   [[7],[8],[9]]]], dtype=np.float32)\r\n",
        "# print(\"imag:\\n\", image)\r\n",
        "print(\"image.shape\", image.shape)\r\n",
        "\r\n",
        "weight = tf.constant([[[[1.,10.,-1.]],[[1.,10.,-1.]]],\r\n",
        "                      [[[1.,10.,-1.]],[[1.,10.,-1.]]]])\r\n",
        "print(\"weight.shape\", weight.shape)\r\n",
        "\r\n",
        "conv2d = tf.nn.conv2d(image, weight, strides=[1, 1, 1, 1], padding='SAME')\r\n",
        "print(\"conv2d.shape\", conv2d.shape)\r\n",
        "\r\n",
        "conv2d_img = np.swapaxes(conv2d, 0, 3)\r\n",
        "for i, one_img in enumerate(conv2d_img):\r\n",
        "    print(one_img.reshape(3,3))\r\n",
        "    plt.subplot(1,3,i+1), plt.imshow(one_img.reshape(3,3), cmap='gray')"
      ],
      "execution_count": null,
      "outputs": [
        {
          "output_type": "stream",
          "text": [
            "image.shape (1, 3, 3, 1)\n",
            "weight.shape (2, 2, 1, 3)\n",
            "conv2d.shape (1, 3, 3, 3)\n",
            "[[12. 16.  9.]\n",
            " [24. 28. 15.]\n",
            " [15. 17.  9.]]\n",
            "[[120. 160.  90.]\n",
            " [240. 280. 150.]\n",
            " [150. 170.  90.]]\n",
            "[[-12. -16.  -9.]\n",
            " [-24. -28. -15.]\n",
            " [-15. -17.  -9.]]\n"
          ],
          "name": "stdout"
        },
        {
          "output_type": "display_data",
          "data": {
            "image/png": "[encoded data removed]",
            "text/plain": [
              "<Figure size 432x288 with 3 Axes>"
            ]
          },
          "metadata": {
            "tags": [],
            "needs_background": "light"
          }
        }
      ]
    },
    {
      "cell_type": "code",
      "metadata": {
        "colab": {
          "base_uri": "https://localhost:8080/"
        },
        "id": "kxKzeTB5IHKs",
        "outputId": "419159dc-038f-4eba-e2f2-b422c60d7413"
      },
      "source": [
        "\r\n",
        "image = np.array([[[[4],[3]],\r\n",
        "                    [[2],[1]]]], dtype=np.float32)\r\n",
        "print(image.shape)\r\n",
        "pool = tf.nn.max_pool(image, ksize=[1, 2, 2, 1],\r\n",
        "                    strides=[1, 1, 1, 1], padding='VALID')\r\n",
        "print(pool.shape)\r\n",
        "print(pool.numpy())"
      ],
      "execution_count": null,
      "outputs": [
        {
          "output_type": "stream",
          "text": [
            "(1, 2, 2, 1)\n",
            "(1, 1, 1, 1)\n",
            "[[[[4.]]]]\n"
          ],
          "name": "stdout"
        }
      ]
    },
    {
      "cell_type": "code",
      "metadata": {
        "colab": {
          "base_uri": "https://localhost:8080/"
        },
        "id": "YmRntVwfINOz",
        "outputId": "cf2aab24-9c35-46a5-846c-88f1192f57f9"
      },
      "source": [
        "image = np.array([[[[4],[3]],\r\n",
        "                    [[2],[1]]]], dtype=np.float32)\r\n",
        "pool = tf.nn.max_pool(image, ksize=[1, 2, 2, 1],\r\n",
        "                    strides=[1, 1, 1, 1], padding='SAME')\r\n",
        "print(pool.shape)\r\n",
        "print(pool.numpy())"
      ],
      "execution_count": null,
      "outputs": [
        {
          "output_type": "stream",
          "text": [
            "(1, 2, 2, 1)\n",
            "[[[[4.]\n",
            "   [3.]]\n",
            "\n",
            "  [[2.]\n",
            "   [1.]]]]\n"
          ],
          "name": "stdout"
        }
      ]
    },
    {
      "cell_type": "code",
      "metadata": {
        "colab": {
          "base_uri": "https://localhost:8080/",
          "height": 318
        },
        "id": "mklndAHIIQ4M",
        "outputId": "bbba6a8d-7a67-46cd-8bb4-d451eabaecf9"
      },
      "source": [
        "import tensorflow as tf\r\n",
        "mnist = tf.keras.datasets.mnist\r\n",
        "\r\n",
        "mnist = mnist.load_data()\r\n",
        "\r\n",
        "# mnist[0][0][0]: 학습 데이터, 이미지 중, 첫번째  \r\n",
        "img = mnist[0][0][0].reshape(28,28)\r\n",
        "plt.imshow(img, cmap='gray')\r\n",
        "print(img.shape)"
      ],
      "execution_count": null,
      "outputs": [
        {
          "output_type": "stream",
          "text": [
            "Downloading data from https://storage.googleapis.com/tensorflow/tf-keras-datasets/mnist.npz\n",
            "11493376/11490434 [==============================] - 0s 0us/step\n",
            "(28, 28)\n"
          ],
          "name": "stdout"
        },
        {
          "output_type": "display_data",
          "data": {
            "image/png": "[encoded data removed]",
            "text/plain": [
              "<Figure size 432x288 with 1 Axes>"
            ]
          },
          "metadata": {
            "tags": [],
            "needs_background": "light"
          }
        }
      ]
    },
    {
      "cell_type": "code",
      "metadata": {
        "colab": {
          "base_uri": "https://localhost:8080/",
          "height": 126
        },
        "id": "dPyaGR5MIYJy",
        "outputId": "3f1a0ad4-e813-43e9-b515-4882b91a9018"
      },
      "source": [
        "# 4차원으로 확장\r\n",
        "img = img.reshape(-1,28,28,1)\r\n",
        "# 3 x 3의 필터 5개 생성\r\n",
        "W1 = tf.Variable(tf.random.normal([3, 3, 1, 5], stddev=0.01))\r\n",
        "\r\n",
        "#conv2d = tf.nn.conv2d(img, W1, strides=[1, 2, 2, 1], padding='SAME')\r\n",
        "conv2d = tf.nn.conv2d(img, W1, strides=2, padding='SAME')\r\n",
        "print(conv2d.shape)\r\n",
        "\r\n",
        "conv2d_img = np.swapaxes(conv2d, 0, 3)\r\n",
        "for i, one_img in enumerate(conv2d_img):\r\n",
        "    plt.subplot(1,5,i+1)\r\n",
        "    plt.imshow(one_img.reshape(14,14), cmap='gray')"
      ],
      "execution_count": null,
      "outputs": [
        {
          "output_type": "stream",
          "text": [
            "(1, 14, 14, 5)\n"
          ],
          "name": "stdout"
        },
        {
          "output_type": "display_data",
          "data": {
            "image/png": "[encoded data removed]",
            "text/plain": [
              "<Figure size 432x288 with 5 Axes>"
            ]
          },
          "metadata": {
            "tags": [],
            "needs_background": "light"
          }
        }
      ]
    },
    {
      "cell_type": "code",
      "metadata": {
        "id": "RITVIvEKIa9N",
        "colab": {
          "base_uri": "https://localhost:8080/",
          "height": 124
        },
        "outputId": "b6004c12-2d3c-4d2c-a8cb-2af63ba1e1b2"
      },
      "source": [
        "\r\n",
        "pool = tf.nn.max_pool(conv2d, ksize=[1, 2, 2, 1], \r\n",
        "                      strides=[1, 2, 2, 1], padding='SAME')\r\n",
        "print(pool.shape)\r\n",
        "\r\n",
        "pool_img = np.swapaxes(pool, 0, 3)\r\n",
        "for i, one_img in enumerate(pool_img):\r\n",
        "    plt.subplot(1,5,i+1)\r\n",
        "    plt.imshow(one_img.reshape(7, 7), cmap='gray')"
      ],
      "execution_count": null,
      "outputs": [
        {
          "output_type": "stream",
          "text": [
            "(1, 7, 7, 5)\n"
          ],
          "name": "stdout"
        },
        {
          "output_type": "display_data",
          "data": {
            "image/png": "[encoded data removed]",
            "text/plain": [
              "<Figure size 432x288 with 5 Axes>"
            ]
          },
          "metadata": {
            "tags": [],
            "needs_background": "light"
          }
        }
      ]
    },
    {
      "cell_type": "code",
      "metadata": {
        "id": "O6c2uVWqIcIu"
      },
      "source": [
        ""
      ],
      "execution_count": null,
      "outputs": []
    }
  ]
}