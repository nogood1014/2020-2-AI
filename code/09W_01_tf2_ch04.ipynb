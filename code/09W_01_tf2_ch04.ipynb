{
  "nbformat": 4,
  "nbformat_minor": 0,
  "metadata": {
    "colab": {
      "name": "09W-01-tf2-ch04.ipynb",
      "provenance": [],
      "collapsed_sections": [],
      "include_colab_link": true
    },
    "kernelspec": {
      "name": "python3",
      "display_name": "Python 3"
    }
  },
  "cells": [
    {
      "cell_type": "markdown",
      "metadata": {
        "id": "view-in-github",
        "colab_type": "text"
      },
      "source": [
        "<a href=\"https://colab.research.google.com/github/nogood1014/2020-2-AI/blob/main/code/09W_01_tf2_ch04.ipynb\" target=\"_parent\"><img src=\"https://colab.research.google.com/assets/colab-badge.svg\" alt=\"Open In Colab\"/></a>"
      ]
    },
    {
      "cell_type": "code",
      "metadata": {
        "id": "OzXKemiQ8CdL"
      },
      "source": [
        "import tensorflow as tf\n",
        "import numpy as np"
      ],
      "execution_count": null,
      "outputs": []
    },
    {
      "cell_type": "code",
      "metadata": {
        "id": "tUPDfdrJuUqE",
        "colab": {
          "base_uri": "https://localhost:8080/",
          "height": 374
        },
        "outputId": "39d7374a-416e-4500-b3f5-9ff11d9fd1ff"
      },
      "source": [
        "# 그림 4.2 출력 코드\n",
        "\n",
        "import math\n",
        "def sigmoid(x) : \n",
        "    return 1 / (1 + math.exp(-x))\n",
        "\n",
        "x = np.arange(-5, 5, 0.01)\n",
        "sigmoid_x = [sigmoid(z) for z in x]\n",
        "tanh_x = [math.tanh(z) for z in x]\n",
        "\n",
        "plt.figure(figsize=(8, 6))\n",
        "\n",
        "plt.axhline(0, color='gray')\n",
        "plt.axvline(0, color='gray')\n",
        "plt.plot(x, sigmoid_x, 'b-', label='sigmoid')\n",
        "plt.plot(x, tanh_x, 'r--', label='tanh')\n",
        "plt.legend()\n",
        "plt.show()"
      ],
      "execution_count": null,
      "outputs": [
        {
          "output_type": "display_data",
          "data": {
            "image/png": "[encoded data removed]",
            "text/plain": [
              "<Figure size 576x432 with 1 Axes>"
            ]
          },
          "metadata": {
            "tags": [],
            "needs_background": "light"
          }
        }
      ]
    },
    {
      "cell_type": "code",
      "metadata": {
        "id": "IRxdDbwWp5S_",
        "colab": {
          "base_uri": "https://localhost:8080/"
        },
        "outputId": "fe8997e1-2c40-4d85-f649-b40eda8083b7"
      },
      "source": [
        "# 4.7 딥러닝 네트워크를 이용한 회귀\n",
        "\n",
        "import tensorflow as tf\n",
        "import numpy as np\n",
        "\n",
        "# 인구증가율과 고령인구비율\n",
        "X = [0.3, 0.78, 1.26, 0.03, 1.11, 0.24, 0.24, -0.47, -0.77, -0.37, -0.85, -0.41, -0.27, 0.02, -0.76, 2.66]\n",
        "Y = [12.27, 14.44, 11.83, 18.75, 17.52, 16.37, 19.78, 19.51, 12.65, 14.74, 10.72, 21.94, 12.83, 15.51, 17.14, 14.42]\n",
        "\n",
        "model = tf.keras.Sequential([\n",
        "    tf.keras.layers.Dense(units=6, activation='tanh', input_shape=(1,)),\n",
        "    tf.keras.layers.Dense(units=1)\n",
        "])\n",
        "\n",
        "model.compile(optimizer=tf.keras.optimizers.SGD(lr=0.1), loss='mse')\n",
        "model.summary()"
      ],
      "execution_count": null,
      "outputs": [
        {
          "output_type": "stream",
          "text": [
            "Model: \"sequential\"\n",
            "_________________________________________________________________\n",
            "Layer (type)                 Output Shape              Param #   \n",
            "=================================================================\n",
            "dense (Dense)                (None, 6)                 12        \n",
            "_________________________________________________________________\n",
            "dense_1 (Dense)              (None, 1)                 7         \n",
            "=================================================================\n",
            "Total params: 19\n",
            "Trainable params: 19\n",
            "Non-trainable params: 0\n",
            "_________________________________________________________________\n"
          ],
          "name": "stdout"
        }
      ]
    },
    {
      "cell_type": "code",
      "metadata": {
        "id": "I972eY2O8JZR",
        "colab": {
          "base_uri": "https://localhost:8080/"
        },
        "outputId": "46cc5308-e88f-46ff-d0ee-c39677b99478"
      },
      "source": [
        "# 4.8 딥러닝 네트워크의 학습\n",
        "model.fit(X, Y, epochs=10)"
      ],
      "execution_count": null,
      "outputs": [
        {
          "output_type": "stream",
          "text": [
            "Epoch 1/10\n",
            "1/1 [==============================] - 0s 1ms/step - loss: 9.3669\n",
            "Epoch 2/10\n",
            "1/1 [==============================] - 0s 996us/step - loss: 9.3340\n",
            "Epoch 3/10\n",
            "1/1 [==============================] - 0s 1ms/step - loss: 9.2972\n",
            "Epoch 4/10\n",
            "1/1 [==============================] - 0s 2ms/step - loss: 9.2567\n",
            "Epoch 5/10\n",
            "1/1 [==============================] - 0s 1ms/step - loss: 9.2123\n",
            "Epoch 6/10\n",
            "1/1 [==============================] - 0s 1ms/step - loss: 9.1644\n",
            "Epoch 7/10\n",
            "1/1 [==============================] - 0s 1ms/step - loss: 9.1138\n",
            "Epoch 8/10\n",
            "1/1 [==============================] - 0s 1ms/step - loss: 9.0614\n",
            "Epoch 9/10\n",
            "1/1 [==============================] - 0s 1ms/step - loss: 9.0083\n",
            "Epoch 10/10\n",
            "1/1 [==============================] - 0s 977us/step - loss: 8.9553\n"
          ],
          "name": "stdout"
        },
        {
          "output_type": "execute_result",
          "data": {
            "text/plain": [
              "<tensorflow.python.keras.callbacks.History at 0x7fb498f481d0>"
            ]
          },
          "metadata": {
            "tags": []
          },
          "execution_count": 6
        }
      ]
    },
    {
      "cell_type": "code",
      "metadata": {
        "id": "GO5Cxitc8U1c",
        "colab": {
          "base_uri": "https://localhost:8080/"
        },
        "outputId": "a2491add-6e0d-44f3-d912-418116606933"
      },
      "source": [
        "# 4.9 딥러닝 네트워크의 Y값 예측\n",
        "model.predict(X)"
      ],
      "execution_count": null,
      "outputs": [
        {
          "output_type": "execute_result",
          "data": {
            "text/plain": [
              "array([[16.2184  ],\n",
              "       [15.998303],\n",
              "       [15.681905],\n",
              "       [16.237036],\n",
              "       [15.788992],\n",
              "       [16.232372],\n",
              "       [16.232372],\n",
              "       [15.731767],\n",
              "       [14.795802],\n",
              "       [15.918132],\n",
              "       [14.439468],\n",
              "       [15.850084],\n",
              "       [16.05417 ],\n",
              "       [16.235107],\n",
              "       [14.837127],\n",
              "       [13.905417]], dtype=float32)"
            ]
          },
          "metadata": {
            "tags": []
          },
          "execution_count": 8
        }
      ]
    },
    {
      "cell_type": "code",
      "metadata": {
        "id": "kd7rQOMO8eR1",
        "colab": {
          "base_uri": "https://localhost:8080/",
          "height": 239
        },
        "outputId": "71c94ab1-8688-4b74-9448-0f3312b0e5a2"
      },
      "source": [
        "# 4.10 딥러닝 네트워크의 회귀선 확인\n",
        "import matplotlib.pyplot as plt\n",
        "\n",
        "line_x = np.arange(min(X), max(X), 0.01)\n",
        "line_y = model.predict(line_x)\n",
        "\n",
        "plt.plot(line_x, line_y, 'r--')\n",
        "plt.plot(X,Y,'bo')\n",
        "\n",
        "plt.xlabel('Population Growth Rate (%)')\n",
        "plt.ylabel('Elderly population Rate (%)')\n",
        "plt.show()"
      ],
      "execution_count": null,
      "outputs": [
        {
          "output_type": "error",
          "ename": "NameError",
          "evalue": "ignored",
          "traceback": [
            "\u001b[0;31m---------------------------------------------------------------------------\u001b[0m",
            "\u001b[0;31mNameError\u001b[0m                                 Traceback (most recent call last)",
            "\u001b[0;32m<ipython-input-3-2ad5d375c4dc>\u001b[0m in \u001b[0;36m<module>\u001b[0;34m()\u001b[0m\n\u001b[1;32m      2\u001b[0m \u001b[0;32mimport\u001b[0m \u001b[0mmatplotlib\u001b[0m\u001b[0;34m.\u001b[0m\u001b[0mpyplot\u001b[0m \u001b[0;32mas\u001b[0m \u001b[0mplt\u001b[0m\u001b[0;34m\u001b[0m\u001b[0;34m\u001b[0m\u001b[0m\n\u001b[1;32m      3\u001b[0m \u001b[0;34m\u001b[0m\u001b[0m\n\u001b[0;32m----> 4\u001b[0;31m \u001b[0mline_x\u001b[0m \u001b[0;34m=\u001b[0m \u001b[0mnp\u001b[0m\u001b[0;34m.\u001b[0m\u001b[0marange\u001b[0m\u001b[0;34m(\u001b[0m\u001b[0mmin\u001b[0m\u001b[0;34m(\u001b[0m\u001b[0mX\u001b[0m\u001b[0;34m)\u001b[0m\u001b[0;34m,\u001b[0m \u001b[0mmax\u001b[0m\u001b[0;34m(\u001b[0m\u001b[0mX\u001b[0m\u001b[0;34m)\u001b[0m\u001b[0;34m,\u001b[0m \u001b[0;36m0.01\u001b[0m\u001b[0;34m)\u001b[0m\u001b[0;34m\u001b[0m\u001b[0;34m\u001b[0m\u001b[0m\n\u001b[0m\u001b[1;32m      5\u001b[0m \u001b[0mline_y\u001b[0m \u001b[0;34m=\u001b[0m \u001b[0mmodel\u001b[0m\u001b[0;34m.\u001b[0m\u001b[0mpredict\u001b[0m\u001b[0;34m(\u001b[0m\u001b[0mline_x\u001b[0m\u001b[0;34m)\u001b[0m\u001b[0;34m\u001b[0m\u001b[0;34m\u001b[0m\u001b[0m\n\u001b[1;32m      6\u001b[0m \u001b[0;34m\u001b[0m\u001b[0m\n",
            "\u001b[0;31mNameError\u001b[0m: name 'np' is not defined"
          ]
        }
      ]
    },
    {
      "cell_type": "code",
      "metadata": {
        "id": "bUKP05CPCKc2",
        "colab": {
          "base_uri": "https://localhost:8080/"
        },
        "outputId": "3af35392-de15-4306-85ed-238d381acf93"
      },
      "source": [
        "# 4.4 텐서플로를 이용해서 회귀선 구하기\n",
        "import tensorflow as tf\n",
        "import numpy as np\n",
        "\n",
        "# 인구증가율과 고령인구비율\n",
        "X = [0.3, 0.78, 1.26, 0.03, 1.11, 0.24, 0.24, -0.47, -0.77, -0.37, -0.85, -0.41, -0.27, 0.02, -0.76, 2.66]\n",
        "Y = [12.27, 14.44, 11.83, 18.75, 17.52, 16.37, 19.78, 19.51, 12.65, 14.74, 10.72, 21.94, 12.83, 15.51, 17.14, 14.42]\n",
        "\n",
        "# a와 b를 랜덤한 값으로 초기화합니다. \n",
        "# a = tf.Variable(random.random())\n",
        "# b = tf.Variable(random.random())\n",
        "a = tf.Variable(tf.random.uniform([1], 0, 1))\n",
        "b = tf.Variable(tf.random.uniform([1], 0, 1))\n",
        "\n",
        "# 잔차의 제곱의 평균을 반환하는 함수입니다.\n",
        "def comput_loss() :\n",
        "    y_pred = a* X + b\n",
        "    loss = tf.reduce_mean((Y - y_pred) ** 2)\n",
        "    return loss\n",
        "\n",
        "optimizer = tf.keras.optimizers.Adam(lr=0.07)\n",
        "for i in range(1000):\n",
        "  # 잔차의 제곱의 평균을 최소화(minimize)합니다.\n",
        "  optimizer.minimize(comput_loss, var_list=[a, b])\n",
        "  if i % 100 == 99:\n",
        "        print(i, 'a:', a.numpy(), 'b:', b.numpy(), 'loss:', comput_loss().numpy())\n",
        "       "
      ],
      "execution_count": null,
      "outputs": [
        {
          "output_type": "stream",
          "text": [
            "99 a: [1.5250981] b: [7.0227056] loss: 82.65309\n",
            "199 a: [0.55526537] b: [11.450889] loss: 27.324947\n",
            "299 a: [0.00811277] b: [13.984749] loss: 12.681408\n",
            "399 a: [-0.24140638] b: [15.141945] loss: 10.113524\n",
            "499 a: [-0.33159566] b: [15.560292] loss: 9.820921\n",
            "599 a: [-0.35750148] b: [15.68046] loss: 9.799288\n",
            "699 a: [-0.36342388] b: [15.707933] loss: 9.798256\n",
            "799 a: [-0.36449698] b: [15.712911] loss: 9.798224\n",
            "899 a: [-0.3646491] b: [15.713614] loss: 9.798222\n",
            "999 a: [-0.364664] b: [15.713684] loss: 9.7982235\n"
          ],
          "name": "stdout"
        }
      ]
    },
    {
      "cell_type": "code",
      "metadata": {
        "id": "UBQjzvC2FnsQ",
        "colab": {
          "base_uri": "https://localhost:8080/",
          "height": 279
        },
        "outputId": "20aeccfe-6f15-4dc0-ea76-a740f65a15e9"
      },
      "source": [
        "import matplotlib.pyplot as plt\n",
        "\n",
        "line_x = np.arange(min(X), max(X), 0.01)\n",
        "line_y = a * line_x + b\n",
        "\n",
        "plt.plot(line_x, line_y, 'r--')\n",
        "plt.plot(X,Y,'bo')\n",
        "plt.xlabel('Population Growth Rate (%)')\n",
        "plt.ylabel('Elderly population Rate (%)')\n",
        "plt.show()"
      ],
      "execution_count": null,
      "outputs": [
        {
          "output_type": "display_data",
          "data": {
            "image/png": "[encoded data removed]",
            "text/plain": [
              "<Figure size 432x288 with 1 Axes>"
            ]
          },
          "metadata": {
            "tags": [],
            "needs_background": "light"
          }
        }
      ]
    },
    {
      "cell_type": "code",
      "metadata": {
        "id": "HqK00DJtJsO6",
        "colab": {
          "base_uri": "https://localhost:8080/",
          "height": 374
        },
        "outputId": "8b7e675f-1f64-4a3c-b31c-641e7780cb0e"
      },
      "source": [
        "# 활성화 함수\n",
        "import math\n",
        "def sigmoid(x):\n",
        "    return 1 / (1 + math.exp(-x))\n",
        "\n",
        "x = np.arange(-5, 5, 0.01)\n",
        "sigmoid_x = [sigmoid(z) for z in x]\n",
        "tanh_x = [math.tanh(z) for z in x]\n",
        "relu = [0 if z < 0 else z for z in x]\n",
        "\n",
        "plt.figure(figsize=(8, 6))\n",
        "\n",
        "plt.axhline(0, color='gray')\n",
        "plt.axvline(0, color='gray')\n",
        "plt.plot(x, sigmoid_x, 'b--', label='sigmoid')\n",
        "plt.plot(x, tanh_x, 'r--', label='tanh')\n",
        "plt.plot(x, relu, 'g.', label='relu')\n",
        "plt.legend()\n",
        "plt.show()"
      ],
      "execution_count": null,
      "outputs": [
        {
          "output_type": "display_data",
          "data": {
            "image/png": "[encoded data removed]",
            "text/plain": [
              "<Figure size 576x432 with 1 Axes>"
            ]
          },
          "metadata": {
            "tags": [],
            "needs_background": "light"
          }
        }
      ]
    },
    {
      "cell_type": "code",
      "metadata": {
        "id": "6JJKlPToLQYq",
        "colab": {
          "base_uri": "https://localhost:8080/"
        },
        "outputId": "8e666d0c-cc1b-4345-a2d2-d1f860496e18"
      },
      "source": [
        "# 4.11 데이터 불러오기\n",
        "\n",
        "from tensorflow.keras.datasets import boston_housing\n",
        "(train_X, train_Y), (test_X, test_Y) = boston_housing.load_data()\n",
        "\n",
        "print(train_X.shape, test_X.shape)\n",
        "print(train_X[0])\n",
        "print(train_Y[0])"
      ],
      "execution_count": null,
      "outputs": [
        {
          "output_type": "stream",
          "text": [
            "Downloading data from https://storage.googleapis.com/tensorflow/tf-keras-datasets/boston_housing.npz\n",
            "57344/57026 [==============================] - 0s 0us/step\n",
            "(404, 13) (102, 13)\n",
            "[  1.23247   0.        8.14      0.        0.538     6.142    91.7\n",
            "   3.9769    4.      307.       21.      396.9      18.72   ]\n",
            "15.2\n"
          ],
          "name": "stdout"
        }
      ]
    },
    {
      "cell_type": "code",
      "metadata": {
        "id": "1JWnzcjwN5bx",
        "colab": {
          "base_uri": "https://localhost:8080/"
        },
        "outputId": "0295c47f-ddfc-42d3-da5e-687b59b91fdd"
      },
      "source": [
        "# 4.13 Boston Housing Dataset 회귀 모델 생성\n",
        "\n",
        "model = tf.keras.models.Sequential([\n",
        "    tf.keras.layers.Dense(units=52, activation='relu', input_shape=(13,)),\n",
        "    tf.keras.layers.Dense(units=39, activation='relu'),\n",
        "    tf.keras.layers.Dense(units=26, activation='relu'),\n",
        "    tf.keras.layers.Dense(units=1)\n",
        "])\n",
        "\n",
        "model.compile(optimizer=tf.keras.optimizers.Adam(lr=0.07), loss='mse')\n",
        "\n",
        "model.summary()"
      ],
      "execution_count": null,
      "outputs": [
        {
          "output_type": "stream",
          "text": [
            "Model: \"sequential\"\n",
            "_________________________________________________________________\n",
            "Layer (type)                 Output Shape              Param #   \n",
            "=================================================================\n",
            "dense (Dense)                (None, 52)                728       \n",
            "_________________________________________________________________\n",
            "dense_1 (Dense)              (None, 39)                2067      \n",
            "_________________________________________________________________\n",
            "dense_2 (Dense)              (None, 26)                1040      \n",
            "_________________________________________________________________\n",
            "dense_3 (Dense)              (None, 1)                 27        \n",
            "=================================================================\n",
            "Total params: 3,862\n",
            "Trainable params: 3,862\n",
            "Non-trainable params: 0\n",
            "_________________________________________________________________\n"
          ],
          "name": "stdout"
        }
      ]
    },
    {
      "cell_type": "code",
      "metadata": {
        "id": "q9__j_M8iQYi",
        "colab": {
          "base_uri": "https://localhost:8080/"
        },
        "outputId": "d938b497-517f-44b1-d94b-aa92ee871a2d"
      },
      "source": [
        "# 4.14 회귀 모델 학습\n",
        "history = model.fit(train_X, train_Y, epochs= 25, \n",
        "                    batch_size=32,\n",
        "                    validation_split=0.25)"
      ],
      "execution_count": null,
      "outputs": [
        {
          "output_type": "stream",
          "text": [
            "Epoch 1/25\n",
            "10/10 [==============================] - 0s 10ms/step - loss: 19.3891 - val_loss: 22.5349\n",
            "Epoch 2/25\n",
            "10/10 [==============================] - 0s 5ms/step - loss: 18.3632 - val_loss: 22.1035\n",
            "Epoch 3/25\n",
            "10/10 [==============================] - 0s 5ms/step - loss: 16.3861 - val_loss: 29.4310\n",
            "Epoch 4/25\n",
            "10/10 [==============================] - 0s 5ms/step - loss: 23.1993 - val_loss: 29.4398\n",
            "Epoch 5/25\n",
            "10/10 [==============================] - 0s 5ms/step - loss: 21.3879 - val_loss: 21.4401\n",
            "Epoch 6/25\n",
            "10/10 [==============================] - 0s 5ms/step - loss: 16.5091 - val_loss: 21.2813\n",
            "Epoch 7/25\n",
            "10/10 [==============================] - 0s 5ms/step - loss: 20.4164 - val_loss: 36.6389\n",
            "Epoch 8/25\n",
            "10/10 [==============================] - 0s 5ms/step - loss: 27.1641 - val_loss: 21.1701\n",
            "Epoch 9/25\n",
            "10/10 [==============================] - 0s 5ms/step - loss: 18.3216 - val_loss: 21.5823\n",
            "Epoch 10/25\n",
            "10/10 [==============================] - 0s 5ms/step - loss: 16.5587 - val_loss: 26.2671\n",
            "Epoch 11/25\n",
            "10/10 [==============================] - 0s 5ms/step - loss: 17.6359 - val_loss: 19.7850\n",
            "Epoch 12/25\n",
            "10/10 [==============================] - 0s 6ms/step - loss: 19.7534 - val_loss: 21.9462\n",
            "Epoch 13/25\n",
            "10/10 [==============================] - 0s 5ms/step - loss: 23.5825 - val_loss: 32.5549\n",
            "Epoch 14/25\n",
            "10/10 [==============================] - 0s 5ms/step - loss: 21.1026 - val_loss: 24.1628\n",
            "Epoch 15/25\n",
            "10/10 [==============================] - 0s 5ms/step - loss: 19.9972 - val_loss: 23.5260\n",
            "Epoch 16/25\n",
            "10/10 [==============================] - 0s 5ms/step - loss: 17.8912 - val_loss: 20.1684\n",
            "Epoch 17/25\n",
            "10/10 [==============================] - 0s 5ms/step - loss: 18.8997 - val_loss: 27.3605\n",
            "Epoch 18/25\n",
            "10/10 [==============================] - 0s 5ms/step - loss: 18.2063 - val_loss: 26.0397\n",
            "Epoch 19/25\n",
            "10/10 [==============================] - 0s 5ms/step - loss: 21.9343 - val_loss: 51.3164\n",
            "Epoch 20/25\n",
            "10/10 [==============================] - 0s 5ms/step - loss: 27.3411 - val_loss: 22.9871\n",
            "Epoch 21/25\n",
            "10/10 [==============================] - 0s 5ms/step - loss: 27.9979 - val_loss: 34.6117\n",
            "Epoch 22/25\n",
            "10/10 [==============================] - 0s 5ms/step - loss: 26.6219 - val_loss: 34.2817\n",
            "Epoch 23/25\n",
            "10/10 [==============================] - 0s 5ms/step - loss: 21.9572 - val_loss: 23.3545\n",
            "Epoch 24/25\n",
            "10/10 [==============================] - 0s 5ms/step - loss: 19.5253 - val_loss: 26.8213\n",
            "Epoch 25/25\n",
            "10/10 [==============================] - 0s 5ms/step - loss: 19.5529 - val_loss: 25.0041\n"
          ],
          "name": "stdout"
        }
      ]
    },
    {
      "cell_type": "code",
      "metadata": {
        "id": "naIEvHJcoQQL",
        "colab": {
          "base_uri": "https://localhost:8080/",
          "height": 279
        },
        "outputId": "91237682-e50a-44c1-c7cd-21a675202924"
      },
      "source": [
        "# 4.15 회귀 모델 학습 결과 시각화\n",
        "import matplotlib.pyplot as plt\n",
        "plt.plot(history.history['loss'], 'b-', label='loss')\n",
        "plt.plot(history.history['val_loss'], 'r--', label='val_loss')\n",
        "plt.xlabel('Epoch')\n",
        "plt.legend()\n",
        "plt.show()"
      ],
      "execution_count": null,
      "outputs": [
        {
          "output_type": "display_data",
          "data": {
            "image/png": "[encoded data removed]",
            "text/plain": [
              "<Figure size 432x288 with 1 Axes>"
            ]
          },
          "metadata": {
            "tags": [],
            "needs_background": "light"
          }
        }
      ]
    },
    {
      "cell_type": "code",
      "metadata": {
        "id": "x8rNPwGrqiX7",
        "colab": {
          "base_uri": "https://localhost:8080/"
        },
        "outputId": "605e31a2-0cd6-421f-8b60-62bd5c59364c"
      },
      "source": [
        "# 4.16 회귀 모델 평가\n",
        "model.evaluate(test_X, test_Y)"
      ],
      "execution_count": null,
      "outputs": [
        {
          "output_type": "stream",
          "text": [
            "4/4 [==============================] - 0s 2ms/step - loss: 33.0656\n"
          ],
          "name": "stdout"
        },
        {
          "output_type": "execute_result",
          "data": {
            "text/plain": [
              "33.06561279296875"
            ]
          },
          "metadata": {
            "tags": []
          },
          "execution_count": 27
        }
      ]
    },
    {
      "cell_type": "code",
      "metadata": {
        "id": "bmdUue_Lq0Ja",
        "colab": {
          "base_uri": "https://localhost:8080/",
          "height": 502
        },
        "outputId": "e28f9234-dd41-407a-d71b-0bd8c183fe8e"
      },
      "source": [
        "# 4.17 실제 주택 가격과 예측 주택 가격 시각화\n",
        "import matplotlib.pyplot as plt\n",
        "\n",
        "pred_Y = model.predict(test_X)\n",
        "\n",
        "plt.figure(figsize=(8, 8))\n",
        "plt.plot(test_Y, pred_Y, 'b.')\n",
        "plt.axis([min(test_Y), max(test_Y), min(test_Y), max(test_Y)])\n",
        "\n",
        "# y=x에 해당하는 대각선\n",
        "plt.plot([min(test_Y), max(test_Y)], [min(test_Y), max(test_Y)], ls=\"--\", c=\".5\")\n",
        "plt.xlabel('test_Y')\n",
        "plt.ylabel('pred_Y')\n",
        "\n",
        "plt.show()"
      ],
      "execution_count": null,
      "outputs": [
        {
          "output_type": "display_data",
          "data": {
            "image/png": "[encoded data removed]",
            "text/plain": [
              "<Figure size 576x576 with 1 Axes>"
            ]
          },
          "metadata": {
            "tags": [],
            "needs_background": "light"
          }
        }
      ]
    },
    {
      "cell_type": "code",
      "metadata": {
        "id": "sJkprspTB5Ca",
        "colab": {
          "base_uri": "https://localhost:8080/"
        },
        "outputId": "ca628deb-06b1-4639-8898-a3193d034ea6"
      },
      "source": [
        "history = model.fit(train_X, train_Y, epochs=25, batch_size=32, validation_split=0.25,\n",
        "                    callbacks=[tf.keras.callbacks.EarlyStopping(patience=3, monitor='val_loss')])"
      ],
      "execution_count": null,
      "outputs": [
        {
          "output_type": "stream",
          "text": [
            "Epoch 1/25\n",
            "10/10 [==============================] - 0s 6ms/step - loss: 27.6826 - val_loss: 41.6519\n",
            "Epoch 2/25\n",
            "10/10 [==============================] - 0s 3ms/step - loss: 28.8423 - val_loss: 28.3832\n",
            "Epoch 3/25\n",
            "10/10 [==============================] - 0s 3ms/step - loss: 24.7741 - val_loss: 31.3309\n",
            "Epoch 4/25\n",
            "10/10 [==============================] - 0s 3ms/step - loss: 23.5050 - val_loss: 27.2562\n",
            "Epoch 5/25\n",
            "10/10 [==============================] - 0s 3ms/step - loss: 17.0472 - val_loss: 38.1806\n",
            "Epoch 6/25\n",
            "10/10 [==============================] - 0s 3ms/step - loss: 20.3113 - val_loss: 29.4945\n",
            "Epoch 7/25\n",
            "10/10 [==============================] - 0s 3ms/step - loss: 18.6465 - val_loss: 20.6261\n",
            "Epoch 8/25\n",
            "10/10 [==============================] - 0s 3ms/step - loss: 16.8928 - val_loss: 21.1778\n",
            "Epoch 9/25\n",
            "10/10 [==============================] - 0s 3ms/step - loss: 17.9416 - val_loss: 21.5333\n",
            "Epoch 10/25\n",
            "10/10 [==============================] - 0s 3ms/step - loss: 16.5216 - val_loss: 33.1589\n"
          ],
          "name": "stdout"
        }
      ]
    }
  ]
}