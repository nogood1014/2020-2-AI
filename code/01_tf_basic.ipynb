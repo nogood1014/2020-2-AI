{
  "nbformat": 4,
  "nbformat_minor": 0,
  "metadata": {
    "colab": {
      "name": "01-tf-basic.ipynb",
      "provenance": [],
      "collapsed_sections": [],
      "authorship_tag": "ABX9TyMwT5jz6yO73FLXH9vJsaX9",
      "include_colab_link": true
    },
    "kernelspec": {
      "name": "python3",
      "display_name": "Python 3"
    }
  },
  "cells": [
    {
      "cell_type": "markdown",
      "metadata": {
        "id": "view-in-github",
        "colab_type": "text"
      },
      "source": [
        "<a href=\"https://colab.research.google.com/github/nogood1014/2020-2-AI/blob/main/code/01_tf_basic.ipynb\" target=\"_parent\"><img src=\"https://colab.research.google.com/assets/colab-badge.svg\" alt=\"Open In Colab\"/></a>"
      ]
    },
    {
      "cell_type": "code",
      "metadata": {
        "id": "fBRxYol5J67D",
        "outputId": "f7123844-2062-489b-d93a-564d7b6186c5",
        "colab": {
          "base_uri": "https://localhost:8080/",
          "height": 35
        }
      },
      "source": [
        "%tensorflow_version 1.x"
      ],
      "execution_count": null,
      "outputs": [
        {
          "output_type": "stream",
          "text": [
            "TensorFlow 1.x selected.\n"
          ],
          "name": "stdout"
        }
      ]
    },
    {
      "cell_type": "code",
      "metadata": {
        "id": "fFCELHcBLBvB",
        "outputId": "daa7d520-6d5a-4374-cbab-29ed3d1798bf",
        "colab": {
          "base_uri": "https://localhost:8080/",
          "height": 35
        }
      },
      "source": [
        "# 텐서플로 1.0 버전 선택\n",
        "try:\n",
        "    # %tensorflow_version only exists in Colab.\n",
        "    %tensorflow_version 1.x\n",
        "except Exception:\n",
        "    pass\n",
        "\n",
        "import tensorflow as tf\n",
        "tf.__version__"
      ],
      "execution_count": null,
      "outputs": [
        {
          "output_type": "execute_result",
          "data": {
            "application/vnd.google.colaboratory.intrinsic+json": {
              "type": "string"
            },
            "text/plain": [
              "'1.15.2'"
            ]
          },
          "metadata": {
            "tags": []
          },
          "execution_count": 2
        }
      ]
    },
    {
      "cell_type": "markdown",
      "metadata": {
        "id": "3CVFN6BKNPGt"
      },
      "source": [
        "↓결과 값에 나타나는 b는 byte타입을 뜻함"
      ]
    },
    {
      "cell_type": "code",
      "metadata": {
        "id": "5lWbBqXaLhfH",
        "outputId": "bd030103-a743-4cda-83de-caaf9f837b72",
        "colab": {
          "base_uri": "https://localhost:8080/",
          "height": 35
        }
      },
      "source": [
        "import tensorflow as tf\n",
        "\n",
        "hello = tf.constant('Hello World!')\n",
        "\n",
        "sess = tf.Session()\n",
        "print(sess.run(hello))\n",
        "sess.close()"
      ],
      "execution_count": null,
      "outputs": [
        {
          "output_type": "stream",
          "text": [
            "b'Hello World!'\n"
          ],
          "name": "stdout"
        }
      ]
    },
    {
      "cell_type": "markdown",
      "metadata": {
        "id": "mvay6CdmN6q1"
      },
      "source": [
        "↓Tensor(이름, 형태(()는 스칼라를 뜻함), 타입정보)"
      ]
    },
    {
      "cell_type": "code",
      "metadata": {
        "id": "WEPEfp_XNhV6",
        "outputId": "3ddd4789-6701-4c37-eefb-d10889cbdaea",
        "colab": {
          "base_uri": "https://localhost:8080/",
          "height": 53
        }
      },
      "source": [
        "a = 10 \n",
        "b = 10\n",
        "print(tf.add(a,b))\n",
        "\n",
        "sess = tf.Session()\n",
        "print(sess.run(tf.add(a,b)))\n",
        "sess.close()"
      ],
      "execution_count": null,
      "outputs": [
        {
          "output_type": "stream",
          "text": [
            "Tensor(\"Add:0\", shape=(), dtype=int32)\n",
            "20\n"
          ],
          "name": "stdout"
        }
      ]
    },
    {
      "cell_type": "markdown",
      "metadata": {
        "id": "lzLtBY-b9YHt"
      },
      "source": [
        "**if 이미 1.x을 사용 중이라면 -> 메뉴,런타임 | 런타임 다시 시작 (단축키 :ctrl+M.)**"
      ]
    },
    {
      "cell_type": "code",
      "metadata": {
        "id": "JmTex3luNvJ0",
        "outputId": "53929b9c-005b-48ba-9d15-db3777d72e1e",
        "colab": {
          "base_uri": "https://localhost:8080/",
          "height": 35
        }
      },
      "source": [
        "import tensorflow as tf\n",
        "tf.__version__"
      ],
      "execution_count": null,
      "outputs": [
        {
          "output_type": "execute_result",
          "data": {
            "application/vnd.google.colaboratory.intrinsic+json": {
              "type": "string"
            },
            "text/plain": [
              "'2.3.0'"
            ]
          },
          "metadata": {
            "tags": []
          },
          "execution_count": 2
        }
      ]
    },
    {
      "cell_type": "markdown",
      "metadata": {
        "id": "_21kS0V69JYm"
      },
      "source": [
        "↓2.x 버전에서는 session없이도 계산 값 출력 가능"
      ]
    },
    {
      "cell_type": "code",
      "metadata": {
        "id": "OGGI31GH84Fj",
        "outputId": "81c70b60-4c48-476a-e54f-7ba0453732b2",
        "colab": {
          "base_uri": "https://localhost:8080/",
          "height": 35
        }
      },
      "source": [
        "a = tf.constant(5)\n",
        "b = tf.constant(3)\n",
        "print(a+b)"
      ],
      "execution_count": null,
      "outputs": [
        {
          "output_type": "stream",
          "text": [
            "tf.Tensor(8, shape=(), dtype=int32)\n"
          ],
          "name": "stdout"
        }
      ]
    },
    {
      "cell_type": "markdown",
      "metadata": {
        "id": "0sRyK8ay9tXS"
      },
      "source": [
        "↓값만 보고 싶으면 메소드 numpy() 사용"
      ]
    },
    {
      "cell_type": "code",
      "metadata": {
        "id": "n2VB-cH09HUK",
        "outputId": "ebffe64f-f802-4141-b38f-578a14c0c0c5",
        "colab": {
          "base_uri": "https://localhost:8080/",
          "height": 53
        }
      },
      "source": [
        "c = tf.constant('Hello, World')\n",
        "print(c)\n",
        "print(c.numpy())"
      ],
      "execution_count": null,
      "outputs": [
        {
          "output_type": "stream",
          "text": [
            "tf.Tensor(b'Hello, World', shape=(), dtype=string)\n",
            "b'Hello, World'\n"
          ],
          "name": "stdout"
        }
      ]
    },
    {
      "cell_type": "code",
      "metadata": {
        "id": "bvwI77_W9oLm",
        "outputId": "7743a226-91ad-4369-e3c3-9b002e30e5ba",
        "colab": {
          "base_uri": "https://localhost:8080/",
          "height": 35
        }
      },
      "source": [
        "a = tf.constant(3)\n",
        "a"
      ],
      "execution_count": null,
      "outputs": [
        {
          "output_type": "execute_result",
          "data": {
            "text/plain": [
              "<tf.Tensor: shape=(), dtype=int32, numpy=3>"
            ]
          },
          "metadata": {
            "tags": []
          },
          "execution_count": 6
        }
      ]
    },
    {
      "cell_type": "code",
      "metadata": {
        "id": "nthitr5197tn",
        "outputId": "4e945715-b634-4af9-a7de-51fca988a55c",
        "colab": {
          "base_uri": "https://localhost:8080/",
          "height": 35
        }
      },
      "source": [
        "a.shape"
      ],
      "execution_count": null,
      "outputs": [
        {
          "output_type": "execute_result",
          "data": {
            "text/plain": [
              "TensorShape([])"
            ]
          },
          "metadata": {
            "tags": []
          },
          "execution_count": 7
        }
      ]
    },
    {
      "cell_type": "code",
      "metadata": {
        "id": "2gaYC6r699LS",
        "outputId": "13855418-4773-4865-c57a-b8bbdd564e50",
        "colab": {
          "base_uri": "https://localhost:8080/",
          "height": 35
        }
      },
      "source": [
        "a.dtype"
      ],
      "execution_count": null,
      "outputs": [
        {
          "output_type": "execute_result",
          "data": {
            "text/plain": [
              "tf.int32"
            ]
          },
          "metadata": {
            "tags": []
          },
          "execution_count": 8
        }
      ]
    },
    {
      "cell_type": "code",
      "metadata": {
        "id": "43lBTIwl9--B",
        "outputId": "d294623a-ab0e-4fa2-f525-f665fe954879",
        "colab": {
          "base_uri": "https://localhost:8080/",
          "height": 35
        }
      },
      "source": [
        "a.numpy()"
      ],
      "execution_count": null,
      "outputs": [
        {
          "output_type": "execute_result",
          "data": {
            "text/plain": [
              "3"
            ]
          },
          "metadata": {
            "tags": []
          },
          "execution_count": 9
        }
      ]
    },
    {
      "cell_type": "code",
      "metadata": {
        "id": "g87qEypQ-ASo",
        "outputId": "4afc1a2a-43c7-4740-979a-6c9045a1b030",
        "colab": {
          "base_uri": "https://localhost:8080/",
          "height": 35
        }
      },
      "source": [
        "b = tf.constant(3.)\n",
        "b"
      ],
      "execution_count": null,
      "outputs": [
        {
          "output_type": "execute_result",
          "data": {
            "text/plain": [
              "<tf.Tensor: shape=(), dtype=float32, numpy=3.0>"
            ]
          },
          "metadata": {
            "tags": []
          },
          "execution_count": 11
        }
      ]
    },
    {
      "cell_type": "code",
      "metadata": {
        "id": "1IQQn47B-DPM",
        "outputId": "024e5fc3-ecf6-428a-e45d-52434806b37d",
        "colab": {
          "base_uri": "https://localhost:8080/",
          "height": 35
        }
      },
      "source": [
        "b.shape"
      ],
      "execution_count": null,
      "outputs": [
        {
          "output_type": "execute_result",
          "data": {
            "text/plain": [
              "TensorShape([])"
            ]
          },
          "metadata": {
            "tags": []
          },
          "execution_count": 12
        }
      ]
    },
    {
      "cell_type": "code",
      "metadata": {
        "id": "gvZUqCSl-Gkz",
        "outputId": "35e9b56d-4e72-49cf-bed5-06eebe8bc777",
        "colab": {
          "base_uri": "https://localhost:8080/",
          "height": 35
        }
      },
      "source": [
        "b.dtype"
      ],
      "execution_count": null,
      "outputs": [
        {
          "output_type": "execute_result",
          "data": {
            "text/plain": [
              "tf.float32"
            ]
          },
          "metadata": {
            "tags": []
          },
          "execution_count": 13
        }
      ]
    },
    {
      "cell_type": "code",
      "metadata": {
        "id": "lMFf4URu-IHP",
        "outputId": "b75eb82d-c5ac-408a-f8b9-0024f2efe73f",
        "colab": {
          "base_uri": "https://localhost:8080/",
          "height": 35
        }
      },
      "source": [
        "b.numpy()"
      ],
      "execution_count": null,
      "outputs": [
        {
          "output_type": "execute_result",
          "data": {
            "text/plain": [
              "3.0"
            ]
          },
          "metadata": {
            "tags": []
          },
          "execution_count": 15
        }
      ]
    },
    {
      "cell_type": "markdown",
      "metadata": {
        "id": "c-njoqY3-rBc"
      },
      "source": [
        "#**Tensor Shapes, type code**"
      ]
    },
    {
      "cell_type": "markdown",
      "metadata": {
        "id": "lO-BO0tr_Rfc"
      },
      "source": [
        "↓Vector"
      ]
    },
    {
      "cell_type": "code",
      "metadata": {
        "id": "LmyMVzE6-JPs",
        "outputId": "e3838a3f-b51e-41ce-9ccd-c0bbd559bb71",
        "colab": {
          "base_uri": "https://localhost:8080/",
          "height": 35
        }
      },
      "source": [
        "a = tf.constant([1,2,3])\n",
        "a.shape"
      ],
      "execution_count": null,
      "outputs": [
        {
          "output_type": "execute_result",
          "data": {
            "text/plain": [
              "TensorShape([3])"
            ]
          },
          "metadata": {
            "tags": []
          },
          "execution_count": 16
        }
      ]
    },
    {
      "cell_type": "markdown",
      "metadata": {
        "id": "-WUVqtNE_g9W"
      },
      "source": [
        "↓Matrix(행렬) - 2행 3열  "
      ]
    },
    {
      "cell_type": "code",
      "metadata": {
        "id": "j9m-i3Za_Kvn",
        "outputId": "b99655d5-addd-4b6d-dc2f-4abdc234deae",
        "colab": {
          "base_uri": "https://localhost:8080/",
          "height": 35
        }
      },
      "source": [
        "a = tf.constant([[1,2,3],[4,5,6]])\n",
        "a.shape"
      ],
      "execution_count": null,
      "outputs": [
        {
          "output_type": "execute_result",
          "data": {
            "text/plain": [
              "TensorShape([2, 3])"
            ]
          },
          "metadata": {
            "tags": []
          },
          "execution_count": 18
        }
      ]
    },
    {
      "cell_type": "markdown",
      "metadata": {
        "id": "qFo1pf8CADEe"
      },
      "source": [
        "↓n차원 행렬 (2 * 2 * 3)"
      ]
    },
    {
      "cell_type": "code",
      "metadata": {
        "id": "ZFvKxwm3_Z8v",
        "outputId": "eb809c95-fd09-4e15-af56-6bb4017f7dc8",
        "colab": {
          "base_uri": "https://localhost:8080/",
          "height": 35
        }
      },
      "source": [
        "a = tf.constant([[[1,2,3], [4,5,6,]],[[1,2,3],[4,5,6]]])\n",
        "a.shape"
      ],
      "execution_count": null,
      "outputs": [
        {
          "output_type": "execute_result",
          "data": {
            "text/plain": [
              "TensorShape([2, 2, 3])"
            ]
          },
          "metadata": {
            "tags": []
          },
          "execution_count": 19
        }
      ]
    },
    {
      "cell_type": "code",
      "metadata": {
        "id": "3BkBaKeKABOG",
        "outputId": "0326f33a-ac41-4776-93c8-0e6f9394bc00",
        "colab": {
          "base_uri": "https://localhost:8080/",
          "height": 125
        }
      },
      "source": [
        "a"
      ],
      "execution_count": null,
      "outputs": [
        {
          "output_type": "execute_result",
          "data": {
            "text/plain": [
              "<tf.Tensor: shape=(2, 2, 3), dtype=int32, numpy=\n",
              "array([[[1, 2, 3],\n",
              "        [4, 5, 6]],\n",
              "\n",
              "       [[1, 2, 3],\n",
              "        [4, 5, 6]]], dtype=int32)>"
            ]
          },
          "metadata": {
            "tags": []
          },
          "execution_count": 20
        }
      ]
    },
    {
      "cell_type": "markdown",
      "metadata": {
        "id": "JPRJB51IA0Bb"
      },
      "source": [
        "#**조건 연산 tf.cond()**\n",
        "\n",
        "> tf.cond (\n",
        "  pred, true_fn = None, false_fn = None, name = None)\n",
        "\n",
        "pred를 검사해 참이면 true_fc 반환, 거짓이면 false_fc 반환"
      ]
    },
    {
      "cell_type": "markdown",
      "metadata": {
        "id": "36m959s7Cb7N"
      },
      "source": [
        "↓ bool이 true이면 2.0 반환, bool이 false이면 11.0 반환"
      ]
    },
    {
      "cell_type": "code",
      "metadata": {
        "id": "BNTDPm0pAdzl",
        "outputId": "481cf7d5-e1ac-425f-b5a7-2eb277c7340a",
        "colab": {
          "base_uri": "https://localhost:8080/",
          "height": 53
        }
      },
      "source": [
        "x = tf.constant(1.)\n",
        "bool = tf.constant(True)\n",
        "res = tf.cond(bool,lambda: tf.add(x, 1.), lambda: tf.add(x, 10.))\n",
        "\n",
        "print(res)\n",
        "print(res.numpy())"
      ],
      "execution_count": null,
      "outputs": [
        {
          "output_type": "stream",
          "text": [
            "tf.Tensor(2.0, shape=(), dtype=float32)\n",
            "2.0\n"
          ],
          "name": "stdout"
        }
      ]
    },
    {
      "cell_type": "markdown",
      "metadata": {
        "id": "uHFBae94EgdE"
      },
      "source": [
        "↓less(x,y) 의 의미는 x<y와 같다 (참 : 34 , 거짓 : 28)"
      ]
    },
    {
      "cell_type": "code",
      "metadata": {
        "id": "Bs35b--ICJL1",
        "outputId": "4e16f875-a4e0-4723-9c25-6188f92ee914",
        "colab": {
          "base_uri": "https://localhost:8080/",
          "height": 35
        }
      },
      "source": [
        "x = tf.constant(2)\n",
        "y = tf.constant(5)\n",
        "def f1(): return tf.multiply(x, 17)\n",
        "def f2(): return tf.add(y, 23)\n",
        "r = tf.cond(tf.less(x,y), f1, f2)\n",
        "\n",
        "r.numpy()"
      ],
      "execution_count": null,
      "outputs": [
        {
          "output_type": "execute_result",
          "data": {
            "text/plain": [
              "34"
            ]
          },
          "metadata": {
            "tags": []
          },
          "execution_count": 22
        }
      ]
    },
    {
      "cell_type": "markdown",
      "metadata": {
        "id": "Ci9cZMM5E6V2"
      },
      "source": [
        "#**1차원 배열 텐서**"
      ]
    },
    {
      "cell_type": "code",
      "metadata": {
        "id": "mjRpLWSmE5MV",
        "outputId": "16194cc6-244e-473b-fee8-2f7ab96a06be",
        "colab": {
          "base_uri": "https://localhost:8080/",
          "height": 35
        }
      },
      "source": [
        "t = tf.constant([1,2,3])\n",
        "t"
      ],
      "execution_count": null,
      "outputs": [
        {
          "output_type": "execute_result",
          "data": {
            "text/plain": [
              "<tf.Tensor: shape=(3,), dtype=int32, numpy=array([1, 2, 3], dtype=int32)>"
            ]
          },
          "metadata": {
            "tags": []
          },
          "execution_count": 26
        }
      ]
    },
    {
      "cell_type": "markdown",
      "metadata": {
        "id": "8uJLwTf3F9ZM"
      },
      "source": [
        "**↓(중요)텐서와 텐서의 합은 각각의 값끼리 더해진다**"
      ]
    },
    {
      "cell_type": "code",
      "metadata": {
        "id": "FKO1fd3iFCi6",
        "outputId": "837c1a8c-af71-4e8e-c51c-f650f754bc8e",
        "colab": {
          "base_uri": "https://localhost:8080/",
          "height": 35
        }
      },
      "source": [
        "x = tf.constant([1,2,3])\n",
        "y = tf.constant([5,6,7])\n",
        "\n",
        "print((x+y).numpy())"
      ],
      "execution_count": null,
      "outputs": [
        {
          "output_type": "stream",
          "text": [
            "[ 6  8 10]\n"
          ],
          "name": "stdout"
        }
      ]
    },
    {
      "cell_type": "code",
      "metadata": {
        "id": "uuUJfzpfFxSb",
        "outputId": "5ca8c8f3-5041-4964-b6c6-8f970d758592",
        "colab": {
          "base_uri": "https://localhost:8080/",
          "height": 71
        }
      },
      "source": [
        "a = tf.constant([5], dtype=tf.float32)\n",
        "b = tf.constant([10], dtype=tf.float32)\n",
        "c = tf.constant([2], dtype=tf.float32)\n",
        "print(a.numpy())\n",
        "\n",
        "d = a * b + c\n",
        "\n",
        "print(d)\n",
        "print(d.numpy())"
      ],
      "execution_count": null,
      "outputs": [
        {
          "output_type": "stream",
          "text": [
            "[5.]\n",
            "tf.Tensor([52.], shape=(1,), dtype=float32)\n",
            "[52.]\n"
          ],
          "name": "stdout"
        }
      ]
    },
    {
      "cell_type": "markdown",
      "metadata": {
        "id": "g14onx3pHZE0"
      },
      "source": [
        "## **(!!매우 중요)텐서의 브로드캐스팅**\n",
        "- shape이 다르더라도 연산이 가능하도록\n",
        "\n",
        "\n",
        "\n"
      ]
    },
    {
      "cell_type": "code",
      "metadata": {
        "id": "zB0BcReTG0-n",
        "outputId": "63a17b2a-3c25-4914-8e12-802b5412a1bf",
        "colab": {
          "base_uri": "https://localhost:8080/",
          "height": 89
        }
      },
      "source": [
        "x = tf.constant([[0], [10], [20], [30]])\n",
        "y = tf.constant([0, 1, 2])\n",
        "\n",
        "print((x+y).numpy())"
      ],
      "execution_count": null,
      "outputs": [
        {
          "output_type": "stream",
          "text": [
            "[[ 0  1  2]\n",
            " [10 11 12]\n",
            " [20 21 22]\n",
            " [30 31 32]]\n"
          ],
          "name": "stdout"
        }
      ]
    },
    {
      "cell_type": "markdown",
      "metadata": {
        "id": "tNMZyIp2KO7O"
      },
      "source": [
        "↓[0 1 2] +[5] -> [0 1 2] + [5 5 5] \n",
        "각 자리 수의 합 \n"
      ]
    },
    {
      "cell_type": "code",
      "metadata": {
        "id": "au1Hc6lGIzeH",
        "outputId": "f173938d-753b-41f7-efd9-15d3366cf2a7",
        "colab": {
          "base_uri": "https://localhost:8080/",
          "height": 161
        }
      },
      "source": [
        "import numpy as np\n",
        "\n",
        "print(np.arange(3))\n",
        "print(np.ones((3,3)))\n",
        "print()\n",
        "\n",
        "x = tf.constant((np.arange(3)))\n",
        "y = tf.constant([5], dtype=tf.int64)\n",
        "print(x)\n",
        "print(y)\n",
        "print(x+y)\n"
      ],
      "execution_count": null,
      "outputs": [
        {
          "output_type": "stream",
          "text": [
            "[0 1 2]\n",
            "[[1. 1. 1.]\n",
            " [1. 1. 1.]\n",
            " [1. 1. 1.]]\n",
            "\n",
            "tf.Tensor([0 1 2], shape=(3,), dtype=int64)\n",
            "tf.Tensor([5], shape=(1,), dtype=int64)\n",
            "tf.Tensor([5 6 7], shape=(3,), dtype=int64)\n"
          ],
          "name": "stdout"
        }
      ]
    },
    {
      "cell_type": "markdown",
      "metadata": {
        "id": "oiruuEhWNr4a"
      },
      "source": [
        "**↓ 2번째 문단 문제 중간고사! 너무 중요!**</br>\n",
        "2) dtype 지정 이유 : 위 ones(3,3)의 데이터 타입이 double이기 때문에 통일해 줌"
      ]
    },
    {
      "cell_type": "code",
      "metadata": {
        "id": "LX7Tfk2dJrR_",
        "outputId": "f21f7008-261e-47da-ab0d-967c7c4a1bef",
        "colab": {
          "base_uri": "https://localhost:8080/",
          "height": 143
        }
      },
      "source": [
        "x = tf.constant((np.arange (3)))\n",
        "y = tf.constant((5), dtype=tf.int64) \n",
        "print((x+y).numpy())\n",
        "\n",
        "# 중간고사 제출 합니다!\n",
        "x = tf.constant((np.ones((3, 3)))) \n",
        "y = tf.constant(np.arange (3), dtype=tf.double) # 위 dtype과 맞춰 주기 위해\n",
        "print((x+y).numpy())\n",
        "\n",
        "x = tf.constant(np.arange(3).reshape(3, 1)) \n",
        "y = tf.constant (np.arange(3)) \n",
        "print ((x+y).numpy())"
      ],
      "execution_count": null,
      "outputs": [
        {
          "output_type": "stream",
          "text": [
            "[5 6 7]\n",
            "[[1. 2. 3.]\n",
            " [1. 2. 3.]\n",
            " [1. 2. 3.]]\n",
            "[[0 1 2]\n",
            " [1 2 3]\n",
            " [2 3 4]]\n"
          ],
          "name": "stdout"
        }
      ]
    },
    {
      "cell_type": "code",
      "metadata": {
        "id": "Rz7Qg2EzK7CJ"
      },
      "source": [
        ""
      ],
      "execution_count": null,
      "outputs": []
    }
  ]
}