{
  "nbformat": 4,
  "nbformat_minor": 0,
  "metadata": {
    "colab": {
      "name": "02-tf-interm.ipynb",
      "provenance": [],
      "collapsed_sections": [],
      "authorship_tag": "ABX9TyOIjTeFRN+Ybr1rwbOIsAjE",
      "include_colab_link": true
    },
    "kernelspec": {
      "name": "python3",
      "display_name": "Python 3"
    }
  },
  "cells": [
    {
      "cell_type": "markdown",
      "metadata": {
        "id": "view-in-github",
        "colab_type": "text"
      },
      "source": [
        "<a href=\"https://colab.research.google.com/github/nogood1014/2020-2-AI/blob/main/code/02_tf_interm.ipynb\" target=\"_parent\"><img src=\"https://colab.research.google.com/assets/colab-badge.svg\" alt=\"Open In Colab\"/></a>"
      ]
    },
    {
      "cell_type": "markdown",
      "metadata": {
        "id": "TyF_2CuYP-BD"
      },
      "source": [
        "# **텐서플로의 즉시 실행**"
      ]
    },
    {
      "cell_type": "code",
      "metadata": {
        "id": "aHGKi7viPc5K",
        "outputId": "6a79a54a-d827-4907-f250-3cda9af1ecd9",
        "colab": {
          "base_uri": "https://localhost:8080/",
          "height": 35
        }
      },
      "source": [
        "import tensorflow as tf\n",
        "tf.__version__"
      ],
      "execution_count": null,
      "outputs": [
        {
          "output_type": "execute_result",
          "data": {
            "application/vnd.google.colaboratory.intrinsic+json": {
              "type": "string"
            },
            "text/plain": [
              "'2.3.0'"
            ]
          },
          "metadata": {
            "tags": []
          },
          "execution_count": 1
        }
      ]
    },
    {
      "cell_type": "code",
      "metadata": {
        "id": "hlWI_saeQKNa",
        "outputId": "37485be2-77c7-486c-e3b7-951c5931aa6f",
        "colab": {
          "base_uri": "https://localhost:8080/",
          "height": 35
        }
      },
      "source": [
        "# 텐서플로 2.0에서 즉시 실행은 기본으로 활성화\n",
        "tf.executing_eagerly()"
      ],
      "execution_count": null,
      "outputs": [
        {
          "output_type": "execute_result",
          "data": {
            "text/plain": [
              "True"
            ]
          },
          "metadata": {
            "tags": []
          },
          "execution_count": 2
        }
      ]
    },
    {
      "cell_type": "code",
      "metadata": {
        "id": "YfPBLiF2Qa_J",
        "outputId": "ff91914d-ee3f-4c8b-d781-8d80c3f26f93",
        "colab": {
          "base_uri": "https://localhost:8080/",
          "height": 107
        }
      },
      "source": [
        "a = tf.constant([[1, 2],\n",
        "                 [3, 4]])\n",
        "print(a)\n",
        "print(a.numpy())"
      ],
      "execution_count": null,
      "outputs": [
        {
          "output_type": "stream",
          "text": [
            "tf.Tensor(\n",
            "[[1 2]\n",
            " [3 4]], shape=(2, 2), dtype=int32)\n",
            "[[1 2]\n",
            " [3 4]]\n"
          ],
          "name": "stdout"
        }
      ]
    },
    {
      "cell_type": "markdown",
      "metadata": {
        "id": "QEnpxm5OQnXP"
      },
      "source": [
        "##(!!중간고사) **2차원 행렬 곱셈**"
      ]
    },
    {
      "cell_type": "code",
      "metadata": {
        "id": "jTwE9Jv-Qi3a",
        "outputId": "371a77dc-e81a-48a0-8f02-03f034301a3a",
        "colab": {
          "base_uri": "https://localhost:8080/",
          "height": 53
        }
      },
      "source": [
        "x = [[2.]]\n",
        "m = tf.matmul(x, x)\n",
        "print(m)\n",
        "print(m.numpy())"
      ],
      "execution_count": null,
      "outputs": [
        {
          "output_type": "stream",
          "text": [
            "tf.Tensor([[4.]], shape=(1, 1), dtype=float32)\n",
            "[[4.]]\n"
          ],
          "name": "stdout"
        }
      ]
    },
    {
      "cell_type": "code",
      "metadata": {
        "id": "S4ix7TBcR3HU",
        "outputId": "c0d541d4-07b1-4c2a-ab30-84005e484059",
        "colab": {
          "base_uri": "https://localhost:8080/",
          "height": 53
        }
      },
      "source": [
        "# Matrix multiplications 1\n",
        "matrix1 = tf.constant([[1., 2.],[3., 4.]])\n",
        "matrix2 = tf.constant([[2., 0.],[1., 2.]])\n",
        "\n",
        "gop = tf.matmul(matrix1, matrix2)\n",
        "print(gop.numpy())"
      ],
      "execution_count": null,
      "outputs": [
        {
          "output_type": "stream",
          "text": [
            "[[ 4.  4.]\n",
            " [10.  8.]]\n"
          ],
          "name": "stdout"
        }
      ]
    },
    {
      "cell_type": "code",
      "metadata": {
        "id": "PPwPfigeSRby",
        "outputId": "2cbd48cd-c78c-4c66-fee4-693059cb0544",
        "colab": {
          "base_uri": "https://localhost:8080/",
          "height": 53
        }
      },
      "source": [
        "# Matrix multiplications 2\n",
        "gop = tf.matmul(matrix2, matrix1)\n",
        "print(gop.numpy())"
      ],
      "execution_count": null,
      "outputs": [
        {
          "output_type": "stream",
          "text": [
            "[[ 2.  4.]\n",
            " [ 7. 10.]]\n"
          ],
          "name": "stdout"
        }
      ]
    },
    {
      "cell_type": "markdown",
      "metadata": {
        "id": "oeq--EaYTHO8"
      },
      "source": [
        "# (!!중간고사)**브로드캐스팅**<br>\n",
        "(복습)\n",
        "01 파일에 똑같은 코드 존재 "
      ]
    },
    {
      "cell_type": "code",
      "metadata": {
        "id": "Z9z-7ijkSgGt",
        "outputId": "d8df73df-66dd-4879-ea1a-da018bab2d61",
        "colab": {
          "base_uri": "https://localhost:8080/",
          "height": 89
        }
      },
      "source": [
        "x = tf.constant([[0], [10], [20], [30]])\n",
        "y = tf.constant([0,1,2])\n",
        "\n",
        "print((x+y).numpy())"
      ],
      "execution_count": null,
      "outputs": [
        {
          "output_type": "stream",
          "text": [
            "[[ 0  1  2]\n",
            " [10 11 12]\n",
            " [20 21 22]\n",
            " [30 31 32]]\n"
          ],
          "name": "stdout"
        }
      ]
    },
    {
      "cell_type": "code",
      "metadata": {
        "id": "cM4xu2ykTWN0",
        "outputId": "1e86ee28-3ff4-444e-d62d-88c95ad62c78",
        "colab": {
          "base_uri": "https://localhost:8080/",
          "height": 161
        }
      },
      "source": [
        "import numpy as np\n",
        "\n",
        "print(np.arange(3))\n",
        "print(np.ones((3,3)))\n",
        "print()\n",
        "\n",
        "x = tf.constant((np.arange(3)))\n",
        "y = tf.constant([5], dtype=tf.int64)\n",
        "print(x)\n",
        "print(y)\n",
        "print(x+y)"
      ],
      "execution_count": null,
      "outputs": [
        {
          "output_type": "stream",
          "text": [
            "[0 1 2]\n",
            "[[1. 1. 1.]\n",
            " [1. 1. 1.]\n",
            " [1. 1. 1.]]\n",
            "\n",
            "tf.Tensor([0 1 2], shape=(3,), dtype=int64)\n",
            "tf.Tensor([5], shape=(1,), dtype=int64)\n",
            "tf.Tensor([5 6 7], shape=(3,), dtype=int64)\n"
          ],
          "name": "stdout"
        }
      ]
    },
    {
      "cell_type": "code",
      "metadata": {
        "id": "a6zBFbSyTqRd",
        "outputId": "53eed7df-5acb-4772-dc6b-589ca66a258c",
        "colab": {
          "base_uri": "https://localhost:8080/",
          "height": 143
        }
      },
      "source": [
        "x = tf.constant((np.arange(3)))\n",
        "y = tf.constant([5], dtype=tf.int64)\n",
        "print((x+y).numpy())\n",
        "\n",
        "x = tf.constant((np.ones((3,3))))\n",
        "y = tf.constant(np.arange(3), dtype=tf.double)\n",
        "print((x+y).numpy())\n",
        "\n",
        "x = tf.constant(np.arange(3).reshape(3,1))\n",
        "y = tf.constant(np.arange(3))\n",
        "print((x+y).numpy())"
      ],
      "execution_count": null,
      "outputs": [
        {
          "output_type": "stream",
          "text": [
            "[5 6 7]\n",
            "[[1. 2. 3.]\n",
            " [1. 2. 3.]\n",
            " [1. 2. 3.]]\n",
            "[[0 1 2]\n",
            " [1 2 3]\n",
            " [2 3 4]]\n"
          ],
          "name": "stdout"
        }
      ]
    },
    {
      "cell_type": "code",
      "metadata": {
        "id": "5USIlsdJWTxT",
        "outputId": "911b625d-7df2-4c7e-93fe-3e6775f6cf1e",
        "colab": {
          "base_uri": "https://localhost:8080/",
          "height": 71
        }
      },
      "source": [
        "# 브로드캐스팅 지원\n",
        "a = tf.constant([[1,2],\n",
        "                [3,4]])\n",
        "b= tf.add(a, 1)\n",
        "print(b)"
      ],
      "execution_count": null,
      "outputs": [
        {
          "output_type": "stream",
          "text": [
            "tf.Tensor(\n",
            "[[2 3]\n",
            " [4 5]], shape=(2, 2), dtype=int32)\n"
          ],
          "name": "stdout"
        }
      ]
    },
    {
      "cell_type": "markdown",
      "metadata": {
        "id": "a6SKnefrVfe8"
      },
      "source": [
        "# **행렬, 원소와의 곱**"
      ]
    },
    {
      "cell_type": "code",
      "metadata": {
        "id": "X4dqjS8aVkH_",
        "outputId": "12a40e22-48f1-4fc2-d19d-367fa15adfc1",
        "colab": {
          "base_uri": "https://localhost:8080/",
          "height": 251
        }
      },
      "source": [
        "# 연산자 오버로딩 지원\n",
        "print(a)\n",
        "# 텐서로부터 numpy 값 얻기:\n",
        "print(a.numpy())\n",
        "print(b)\n",
        "print(b.numpy())\n",
        "print(a * b)"
      ],
      "execution_count": null,
      "outputs": [
        {
          "output_type": "stream",
          "text": [
            "tf.Tensor(\n",
            "[[1 2]\n",
            " [3 4]], shape=(2, 2), dtype=int32)\n",
            "[[1 2]\n",
            " [3 4]]\n",
            "tf.Tensor(\n",
            "[[2 3]\n",
            " [4 5]], shape=(2, 2), dtype=int32)\n",
            "[[2 3]\n",
            " [4 5]]\n",
            "tf.Tensor(\n",
            "[[ 2  6]\n",
            " [12 20]], shape=(2, 2), dtype=int32)\n"
          ],
          "name": "stdout"
        }
      ]
    },
    {
      "cell_type": "code",
      "metadata": {
        "id": "28xWcNRFVwrZ",
        "outputId": "e8938c9d-b242-44c6-daac-3d31bbcc283f",
        "colab": {
          "base_uri": "https://localhost:8080/",
          "height": 53
        }
      },
      "source": [
        "# NumPy값 사용\n",
        "import numpy as np\n",
        "\n",
        "c = np.multiply(a , b)\n",
        "print(c)"
      ],
      "execution_count": null,
      "outputs": [
        {
          "output_type": "stream",
          "text": [
            "[[ 2  6]\n",
            " [12 20]]\n"
          ],
          "name": "stdout"
        }
      ]
    },
    {
      "cell_type": "markdown",
      "metadata": {
        "id": "4xsyR_6oXFKu"
      },
      "source": [
        "# **텐서플로 연산**\n",
        "- tf.add() : +\n",
        "- tf.multiply() : *\n",
        "- tf.pow() : a의 b제곱\n",
        "- tf.reduce_mean() : 평균\n",
        "- tf.reduce_sum() : 합 \n",
        "\n"
      ]
    },
    {
      "cell_type": "code",
      "metadata": {
        "id": "j8lTTbN1WuDw",
        "outputId": "85a9f72c-2ead-4558-fb58-1321559b05b0",
        "colab": {
          "base_uri": "https://localhost:8080/",
          "height": 35
        }
      },
      "source": [
        "a = 2\n",
        "b = 3\n",
        "c = tf.add(a, b)\n",
        "print(c.numpy())"
      ],
      "execution_count": null,
      "outputs": [
        {
          "output_type": "stream",
          "text": [
            "5\n"
          ],
          "name": "stdout"
        }
      ]
    },
    {
      "cell_type": "code",
      "metadata": {
        "id": "xYCqIltcXlC6",
        "outputId": "d64a18f0-01bf-40d8-f58e-eacc43671f72",
        "colab": {
          "base_uri": "https://localhost:8080/",
          "height": 35
        }
      },
      "source": [
        "x = 2\n",
        "y = 3\n",
        "add_op = tf.add(x, y)\n",
        "mul_op = tf.multiply(x, y)\n",
        "pow_op = tf.pow(add_op, mul_op)\n",
        "\n",
        "print(pow_op.numpy())"
      ],
      "execution_count": null,
      "outputs": [
        {
          "output_type": "stream",
          "text": [
            "15625\n"
          ],
          "name": "stdout"
        }
      ]
    },
    {
      "cell_type": "code",
      "metadata": {
        "id": "cGhxf1RIYRqo",
        "outputId": "1e7928e1-36a0-4a02-ff91-11b303b0bdb8",
        "colab": {
          "base_uri": "https://localhost:8080/",
          "height": 53
        }
      },
      "source": [
        "a = tf.constant(2.)\n",
        "b = tf.constant(3.)\n",
        "c = tf.constant(5.)\n",
        "\n",
        "# Some more perations.\n",
        "mean = tf.reduce_mean([a,b,c])\n",
        "sum = tf.reduce_sum([a,b,c])\n",
        "\n",
        "print(\"mean = \", mean.numpy())\n",
        "print(\"sum = \", sum.numpy())"
      ],
      "execution_count": null,
      "outputs": [
        {
          "output_type": "stream",
          "text": [
            "mean =  3.3333333\n",
            "sum =  10.0\n"
          ],
          "name": "stdout"
        }
      ]
    },
    {
      "cell_type": "markdown",
      "metadata": {
        "id": "ff3NuwA8ZDqU"
      },
      "source": [
        "# **rank**<br>\n",
        "행렬의 차수 반환"
      ]
    },
    {
      "cell_type": "markdown",
      "metadata": {
        "id": "QbLKd-Psa4a7"
      },
      "source": [
        "↓0이 들어 있는 4차원 행렬"
      ]
    },
    {
      "cell_type": "code",
      "metadata": {
        "id": "CiZfUD-yYp0L",
        "outputId": "301a27ef-975b-40e0-daae-dc2843fd8310",
        "colab": {
          "base_uri": "https://localhost:8080/",
          "height": 35
        }
      },
      "source": [
        " my_image = tf.zeros([2, 5, 5, 3])\n",
        " my_image.shape"
      ],
      "execution_count": null,
      "outputs": [
        {
          "output_type": "execute_result",
          "data": {
            "text/plain": [
              "TensorShape([2, 5, 5, 3])"
            ]
          },
          "metadata": {
            "tags": []
          },
          "execution_count": 24
        }
      ]
    },
    {
      "cell_type": "markdown",
      "metadata": {
        "id": "nlfoKlA3bCvc"
      },
      "source": [
        "↓4차원이기 때문에  4 출력"
      ]
    },
    {
      "cell_type": "code",
      "metadata": {
        "id": "Xm7xKp3_ZqNE",
        "outputId": "fd90dbbf-2063-47c3-bf38-afc6d0da6cc5",
        "colab": {
          "base_uri": "https://localhost:8080/",
          "height": 35
        }
      },
      "source": [
        "tf.rank(my_image)"
      ],
      "execution_count": null,
      "outputs": [
        {
          "output_type": "execute_result",
          "data": {
            "text/plain": [
              "<tf.Tensor: shape=(), dtype=int32, numpy=4>"
            ]
          },
          "metadata": {
            "tags": []
          },
          "execution_count": 25
        }
      ]
    },
    {
      "cell_type": "markdown",
      "metadata": {
        "id": "Cue0gAqcbM6S"
      },
      "source": [
        "# (!중요)**Shape, reshape** "
      ]
    },
    {
      "cell_type": "markdown",
      "metadata": {
        "id": "nOMtiu1kbiDF"
      },
      "source": [
        "↓3차/4행/5열"
      ]
    },
    {
      "cell_type": "code",
      "metadata": {
        "id": "TEx4SAmYZsw7",
        "outputId": "083725ae-23ea-44d2-e8d6-d5eb63684420",
        "colab": {
          "base_uri": "https://localhost:8080/",
          "height": 35
        }
      },
      "source": [
        "rank_three_tensor = tf.ones([3,4,5])\n",
        "rank_three_tensor.shape"
      ],
      "execution_count": null,
      "outputs": [
        {
          "output_type": "execute_result",
          "data": {
            "text/plain": [
              "TensorShape([3, 4, 5])"
            ]
          },
          "metadata": {
            "tags": []
          },
          "execution_count": 26
        }
      ]
    },
    {
      "cell_type": "code",
      "metadata": {
        "id": "1oTm69xZbgIz",
        "outputId": "f75cc86f-674f-4678-a134-819abac70900",
        "colab": {
          "base_uri": "https://localhost:8080/",
          "height": 269
        }
      },
      "source": [
        "rank_three_tensor.numpy()"
      ],
      "execution_count": null,
      "outputs": [
        {
          "output_type": "execute_result",
          "data": {
            "text/plain": [
              "array([[[1., 1., 1., 1., 1.],\n",
              "        [1., 1., 1., 1., 1.],\n",
              "        [1., 1., 1., 1., 1.],\n",
              "        [1., 1., 1., 1., 1.]],\n",
              "\n",
              "       [[1., 1., 1., 1., 1.],\n",
              "        [1., 1., 1., 1., 1.],\n",
              "        [1., 1., 1., 1., 1.],\n",
              "        [1., 1., 1., 1., 1.]],\n",
              "\n",
              "       [[1., 1., 1., 1., 1.],\n",
              "        [1., 1., 1., 1., 1.],\n",
              "        [1., 1., 1., 1., 1.],\n",
              "        [1., 1., 1., 1., 1.]]], dtype=float32)"
            ]
          },
          "metadata": {
            "tags": []
          },
          "execution_count": 27
        }
      ]
    },
    {
      "cell_type": "code",
      "metadata": {
        "id": "YXQCfWESbosc",
        "outputId": "8a993018-edae-48f3-d4aa-73c5039f5ac1",
        "colab": {
          "base_uri": "https://localhost:8080/",
          "height": 143
        }
      },
      "source": [
        "# 기존 내용을 6x10 행렬로 형태 변경\n",
        "matrix = tf.reshape(rank_three_tensor, [6, 10])\n",
        "matrix"
      ],
      "execution_count": null,
      "outputs": [
        {
          "output_type": "execute_result",
          "data": {
            "text/plain": [
              "<tf.Tensor: shape=(6, 10), dtype=float32, numpy=\n",
              "array([[1., 1., 1., 1., 1., 1., 1., 1., 1., 1.],\n",
              "       [1., 1., 1., 1., 1., 1., 1., 1., 1., 1.],\n",
              "       [1., 1., 1., 1., 1., 1., 1., 1., 1., 1.],\n",
              "       [1., 1., 1., 1., 1., 1., 1., 1., 1., 1.],\n",
              "       [1., 1., 1., 1., 1., 1., 1., 1., 1., 1.],\n",
              "       [1., 1., 1., 1., 1., 1., 1., 1., 1., 1.]], dtype=float32)>"
            ]
          },
          "metadata": {
            "tags": []
          },
          "execution_count": 28
        }
      ]
    },
    {
      "cell_type": "code",
      "metadata": {
        "id": "mO-9Owm4bynR",
        "outputId": "bc3d5e6a-a923-4b9d-8c44-afb2bc9a3f34",
        "colab": {
          "base_uri": "https://localhost:8080/",
          "height": 143
        }
      },
      "source": [
        "# 기존 내용을 3x20 행렬로 형태 변경\n",
        "# -1은 차원 크기를 계산하여 자동으로 결정하라는 의미 (곱해서 60이 되기 위해 20)\n",
        "matrixB = tf.reshape(matrix, [3,-1])\n",
        "matrixB"
      ],
      "execution_count": null,
      "outputs": [
        {
          "output_type": "execute_result",
          "data": {
            "text/plain": [
              "<tf.Tensor: shape=(3, 20), dtype=float32, numpy=\n",
              "array([[1., 1., 1., 1., 1., 1., 1., 1., 1., 1., 1., 1., 1., 1., 1., 1.,\n",
              "        1., 1., 1., 1.],\n",
              "       [1., 1., 1., 1., 1., 1., 1., 1., 1., 1., 1., 1., 1., 1., 1., 1.,\n",
              "        1., 1., 1., 1.],\n",
              "       [1., 1., 1., 1., 1., 1., 1., 1., 1., 1., 1., 1., 1., 1., 1., 1.,\n",
              "        1., 1., 1., 1.]], dtype=float32)>"
            ]
          },
          "metadata": {
            "tags": []
          },
          "execution_count": 30
        }
      ]
    },
    {
      "cell_type": "code",
      "metadata": {
        "id": "Ay1ApNRbcDIu",
        "outputId": "653915c7-7792-4ddc-ad2c-389d0fd3377e",
        "colab": {
          "base_uri": "https://localhost:8080/",
          "height": 305
        }
      },
      "source": [
        "# 기존 내용을 4x3x5 텐서로 형태 변경\n",
        "matrixAlt = tf.reshape(matrixB, [4, 3, -1])\n",
        "matrixAlt"
      ],
      "execution_count": null,
      "outputs": [
        {
          "output_type": "execute_result",
          "data": {
            "text/plain": [
              "<tf.Tensor: shape=(4, 3, 5), dtype=float32, numpy=\n",
              "array([[[1., 1., 1., 1., 1.],\n",
              "        [1., 1., 1., 1., 1.],\n",
              "        [1., 1., 1., 1., 1.]],\n",
              "\n",
              "       [[1., 1., 1., 1., 1.],\n",
              "        [1., 1., 1., 1., 1.],\n",
              "        [1., 1., 1., 1., 1.]],\n",
              "\n",
              "       [[1., 1., 1., 1., 1.],\n",
              "        [1., 1., 1., 1., 1.],\n",
              "        [1., 1., 1., 1., 1.]],\n",
              "\n",
              "       [[1., 1., 1., 1., 1.],\n",
              "        [1., 1., 1., 1., 1.],\n",
              "        [1., 1., 1., 1., 1.]]], dtype=float32)>"
            ]
          },
          "metadata": {
            "tags": []
          },
          "execution_count": 31
        }
      ]
    },
    {
      "cell_type": "code",
      "metadata": {
        "id": "jfUckUZHcjiI"
      },
      "source": [
        "# 형태가 변경된 텐서의 원소 개수는 원래 텐서의 원소 개수와 같습니다.\n",
        "# 그러므로 다음은 원소 개수를 유지하면서 \n",
        "# 마지막 차원에 사용 가능한 수가 없기 때문에 에러를 발생합니다.\n",
        "#yet_another = tf.reshape(matrixAlt,[13,2,-1]) #에러"
      ],
      "execution_count": null,
      "outputs": []
    },
    {
      "cell_type": "markdown",
      "metadata": {
        "id": "Vpa2oC2ldCkH"
      },
      "source": [
        "# **자료형 변환**"
      ]
    },
    {
      "cell_type": "code",
      "metadata": {
        "id": "IPvMPP6sc91b",
        "outputId": "57790f0a-0325-40e4-cfe4-7ea3e8ff5586",
        "colab": {
          "base_uri": "https://localhost:8080/",
          "height": 35
        }
      },
      "source": [
        "# 정수형 텐서를 실수형으로 변환.\n",
        "float_tensor = tf.cast(tf.constant([1,2,3]), dtype=tf.float32)\n",
        "float_tensor"
      ],
      "execution_count": null,
      "outputs": [
        {
          "output_type": "execute_result",
          "data": {
            "text/plain": [
              "<tf.Tensor: shape=(3,), dtype=float32, numpy=array([1., 2., 3.], dtype=float32)>"
            ]
          },
          "metadata": {
            "tags": []
          },
          "execution_count": 35
        }
      ]
    },
    {
      "cell_type": "code",
      "metadata": {
        "id": "M4MJCWIsdVz7",
        "outputId": "1cbff835-b079-4415-c591-fd9944bb87b8",
        "colab": {
          "base_uri": "https://localhost:8080/",
          "height": 35
        }
      },
      "source": [
        "float_tensor.dtype"
      ],
      "execution_count": null,
      "outputs": [
        {
          "output_type": "execute_result",
          "data": {
            "text/plain": [
              "tf.float32"
            ]
          },
          "metadata": {
            "tags": []
          },
          "execution_count": 36
        }
      ]
    },
    {
      "cell_type": "markdown",
      "metadata": {
        "id": "z_As5Ghed5Kd"
      },
      "source": [
        "# **변수 Variable(1.x에서 자주 사용했으나, 2.x에서는 그닥...)**"
      ]
    },
    {
      "cell_type": "code",
      "metadata": {
        "id": "cOK4-vJkdr8S",
        "outputId": "41925b3c-e66d-4aa2-9548-d633158103ef",
        "colab": {
          "base_uri": "https://localhost:8080/",
          "height": 35
        }
      },
      "source": [
        "v = tf.Variable(0.0)\n",
        "v"
      ],
      "execution_count": null,
      "outputs": [
        {
          "output_type": "execute_result",
          "data": {
            "text/plain": [
              "<tf.Variable 'Variable:0' shape=() dtype=float32, numpy=0.0>"
            ]
          },
          "metadata": {
            "tags": []
          },
          "execution_count": 37
        }
      ]
    },
    {
      "cell_type": "code",
      "metadata": {
        "id": "vTw8fcjPeGDy",
        "outputId": "d56e6865-b3f0-4395-ff2b-39b90bd769ff",
        "colab": {
          "base_uri": "https://localhost:8080/",
          "height": 35
        }
      },
      "source": [
        "w = v + 10\n",
        "w"
      ],
      "execution_count": null,
      "outputs": [
        {
          "output_type": "execute_result",
          "data": {
            "text/plain": [
              "<tf.Tensor: shape=(), dtype=float32, numpy=10.0>"
            ]
          },
          "metadata": {
            "tags": []
          },
          "execution_count": 38
        }
      ]
    },
    {
      "cell_type": "code",
      "metadata": {
        "id": "aPHIJMUIeJtP",
        "outputId": "ae68cd9d-d3aa-4658-f23c-5aab52c03cab",
        "colab": {
          "base_uri": "https://localhost:8080/",
          "height": 35
        }
      },
      "source": [
        "w.numpy()"
      ],
      "execution_count": null,
      "outputs": [
        {
          "output_type": "execute_result",
          "data": {
            "text/plain": [
              "10.0"
            ]
          },
          "metadata": {
            "tags": []
          },
          "execution_count": 39
        }
      ]
    },
    {
      "cell_type": "code",
      "metadata": {
        "id": "sn4he26GeK7o",
        "outputId": "5a13afb7-d6ca-4ccf-cc90-4b32b365c194",
        "colab": {
          "base_uri": "https://localhost:8080/",
          "height": 35
        }
      },
      "source": [
        "v = tf.Variable(2.0)\n",
        "v.assign_add(5)\n",
        "v"
      ],
      "execution_count": null,
      "outputs": [
        {
          "output_type": "execute_result",
          "data": {
            "text/plain": [
              "<tf.Variable 'Variable:0' shape=() dtype=float32, numpy=7.0>"
            ]
          },
          "metadata": {
            "tags": []
          },
          "execution_count": 41
        }
      ]
    },
    {
      "cell_type": "code",
      "metadata": {
        "id": "85E3p8dTeO40",
        "outputId": "0ccce779-2ab2-4887-81c7-05cdbbbf80df",
        "colab": {
          "base_uri": "https://localhost:8080/",
          "height": 35
        }
      },
      "source": [
        "v.read_value()"
      ],
      "execution_count": null,
      "outputs": [
        {
          "output_type": "execute_result",
          "data": {
            "text/plain": [
              "<tf.Tensor: shape=(), dtype=float32, numpy=7.0>"
            ]
          },
          "metadata": {
            "tags": []
          },
          "execution_count": 42
        }
      ]
    }
  ]
}